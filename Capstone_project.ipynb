{
 "cells": [
  {
   "cell_type": "markdown",
   "id": "f34062cc",
   "metadata": {},
   "source": [
    "# SATISFACTION WITH THE BALANCE BETWEEN WORK AND HOME\n"
   ]
  },
  {
   "cell_type": "markdown",
   "id": "d1e8093d",
   "metadata": {},
   "source": [
    "The objective of this project is to analyse the job satisfaction and balance between work and home in various provinces of Canada. The dataset is taken from Statistics Canada in which input parameters are based on age group, sex, geography, employment types etc. It shall be analyzed mainly by Data preprocessing, Data Analysis & Visualization in which following steps would be explored to achieve the required outcome,\n",
    "\n",
    "    Importing raw dataset from Statistics Canada \n",
    "    Identifying and handling the missing values in dataset\n",
    "    Encoding the categorical data\n",
    "    Splitting the dataset\n",
    "    Manipulating the data using various data analysis techniques\n",
    "    Regression Analysis and predictive analysis to evaulate the model & predictions\n",
    "    Visualization with generating Waffle chart using Waffle function from pywaffle\n",
    "\n"
   ]
  },
  {
   "cell_type": "markdown",
   "id": "390192c3",
   "metadata": {},
   "source": [
    "Data link: https://open.canada.ca/data/en/dataset/eb566d86-cdda-4d85-8b1b-727eb719bf21"
   ]
  },
  {
   "cell_type": "code",
   "execution_count": 1,
   "id": "f2d3ac4f",
   "metadata": {},
   "outputs": [],
   "source": [
    "# important libraries:\n",
    "\n",
    "import pandas as pd\n",
    "import numpy as np \n",
    "import seaborn as sns \n",
    "import statsmodels.api as sm\n",
    "import scipy.stats as sc\n",
    "import matplotlib.pyplot as plt\n",
    "sns.set()\n"
   ]
  },
  {
   "cell_type": "code",
   "execution_count": 2,
   "id": "a5ceab10",
   "metadata": {},
   "outputs": [],
   "source": [
    "import warnings\n",
    "warnings.filterwarnings('ignore')"
   ]
  },
  {
   "cell_type": "markdown",
   "id": "a8d254dc",
   "metadata": {},
   "source": [
    "DATA PRE-PROCESSING"
   ]
  },
  {
   "cell_type": "code",
   "execution_count": 4,
   "id": "92555286",
   "metadata": {},
   "outputs": [
    {
     "data": {
      "text/html": [
       "<div>\n",
       "<style scoped>\n",
       "    .dataframe tbody tr th:only-of-type {\n",
       "        vertical-align: middle;\n",
       "    }\n",
       "\n",
       "    .dataframe tbody tr th {\n",
       "        vertical-align: top;\n",
       "    }\n",
       "\n",
       "    .dataframe thead th {\n",
       "        text-align: right;\n",
       "    }\n",
       "</style>\n",
       "<table border=\"1\" class=\"dataframe\">\n",
       "  <thead>\n",
       "    <tr style=\"text-align: right;\">\n",
       "      <th></th>\n",
       "      <th>REF_DATE</th>\n",
       "      <th>GEO</th>\n",
       "      <th>DGUID</th>\n",
       "      <th>Age group</th>\n",
       "      <th>Sex</th>\n",
       "      <th>Employment type</th>\n",
       "      <th>Response</th>\n",
       "      <th>Estimates</th>\n",
       "      <th>UOM</th>\n",
       "      <th>UOM_ID</th>\n",
       "      <th>SCALAR_FACTOR</th>\n",
       "      <th>SCALAR_ID</th>\n",
       "      <th>VECTOR</th>\n",
       "      <th>COORDINATE</th>\n",
       "      <th>VALUE</th>\n",
       "      <th>STATUS</th>\n",
       "      <th>SYMBOL</th>\n",
       "      <th>TERMINATED</th>\n",
       "      <th>DECIMALS</th>\n",
       "    </tr>\n",
       "  </thead>\n",
       "  <tbody>\n",
       "    <tr>\n",
       "      <th>0</th>\n",
       "      <td>2016</td>\n",
       "      <td>Canada</td>\n",
       "      <td>2016A000011124</td>\n",
       "      <td>Total, 15 years and over</td>\n",
       "      <td>Both sexes</td>\n",
       "      <td>Total, employment type</td>\n",
       "      <td>Total, satisfaction with work-home balance</td>\n",
       "      <td>Number of persons</td>\n",
       "      <td>Persons</td>\n",
       "      <td>249</td>\n",
       "      <td>thousands</td>\n",
       "      <td>3</td>\n",
       "      <td>v120531032</td>\n",
       "      <td>1.1.1.1.1.1</td>\n",
       "      <td>20975.0</td>\n",
       "      <td>NaN</td>\n",
       "      <td>NaN</td>\n",
       "      <td>NaN</td>\n",
       "      <td>0</td>\n",
       "    </tr>\n",
       "    <tr>\n",
       "      <th>1</th>\n",
       "      <td>2016</td>\n",
       "      <td>Canada</td>\n",
       "      <td>2016A000011124</td>\n",
       "      <td>Total, 15 years and over</td>\n",
       "      <td>Both sexes</td>\n",
       "      <td>Total, employment type</td>\n",
       "      <td>Total, satisfaction with work-home balance</td>\n",
       "      <td>Percentage of persons</td>\n",
       "      <td>Percent</td>\n",
       "      <td>239</td>\n",
       "      <td>units</td>\n",
       "      <td>0</td>\n",
       "      <td>v120531033</td>\n",
       "      <td>1.1.1.1.1.2</td>\n",
       "      <td>100.0</td>\n",
       "      <td>NaN</td>\n",
       "      <td>NaN</td>\n",
       "      <td>NaN</td>\n",
       "      <td>1</td>\n",
       "    </tr>\n",
       "    <tr>\n",
       "      <th>2</th>\n",
       "      <td>2016</td>\n",
       "      <td>Canada</td>\n",
       "      <td>2016A000011124</td>\n",
       "      <td>Total, 15 years and over</td>\n",
       "      <td>Both sexes</td>\n",
       "      <td>Total, employment type</td>\n",
       "      <td>Total, satisfaction with work-home balance</td>\n",
       "      <td>Low 95% confidence interval, percent</td>\n",
       "      <td>Percent</td>\n",
       "      <td>239</td>\n",
       "      <td>units</td>\n",
       "      <td>0</td>\n",
       "      <td>v120531034</td>\n",
       "      <td>1.1.1.1.1.3</td>\n",
       "      <td>100.0</td>\n",
       "      <td>NaN</td>\n",
       "      <td>NaN</td>\n",
       "      <td>NaN</td>\n",
       "      <td>1</td>\n",
       "    </tr>\n",
       "    <tr>\n",
       "      <th>3</th>\n",
       "      <td>2016</td>\n",
       "      <td>Canada</td>\n",
       "      <td>2016A000011124</td>\n",
       "      <td>Total, 15 years and over</td>\n",
       "      <td>Both sexes</td>\n",
       "      <td>Total, employment type</td>\n",
       "      <td>Total, satisfaction with work-home balance</td>\n",
       "      <td>High 95% confidence interval, percent</td>\n",
       "      <td>Percent</td>\n",
       "      <td>239</td>\n",
       "      <td>units</td>\n",
       "      <td>0</td>\n",
       "      <td>v120531035</td>\n",
       "      <td>1.1.1.1.1.4</td>\n",
       "      <td>100.0</td>\n",
       "      <td>NaN</td>\n",
       "      <td>NaN</td>\n",
       "      <td>NaN</td>\n",
       "      <td>1</td>\n",
       "    </tr>\n",
       "    <tr>\n",
       "      <th>4</th>\n",
       "      <td>2016</td>\n",
       "      <td>Canada</td>\n",
       "      <td>2016A000011124</td>\n",
       "      <td>Total, 15 years and over</td>\n",
       "      <td>Both sexes</td>\n",
       "      <td>Total, employment type</td>\n",
       "      <td>Very satisfied or satisfied</td>\n",
       "      <td>Number of persons</td>\n",
       "      <td>Persons</td>\n",
       "      <td>249</td>\n",
       "      <td>thousands</td>\n",
       "      <td>3</td>\n",
       "      <td>v120531036</td>\n",
       "      <td>1.1.1.1.2.1</td>\n",
       "      <td>14286.0</td>\n",
       "      <td>NaN</td>\n",
       "      <td>NaN</td>\n",
       "      <td>NaN</td>\n",
       "      <td>0</td>\n",
       "    </tr>\n",
       "    <tr>\n",
       "      <th>5</th>\n",
       "      <td>2016</td>\n",
       "      <td>Canada</td>\n",
       "      <td>2016A000011124</td>\n",
       "      <td>Total, 15 years and over</td>\n",
       "      <td>Both sexes</td>\n",
       "      <td>Total, employment type</td>\n",
       "      <td>Very satisfied or satisfied</td>\n",
       "      <td>Percentage of persons</td>\n",
       "      <td>Percent</td>\n",
       "      <td>239</td>\n",
       "      <td>units</td>\n",
       "      <td>0</td>\n",
       "      <td>v120531037</td>\n",
       "      <td>1.1.1.1.2.2</td>\n",
       "      <td>68.1</td>\n",
       "      <td>NaN</td>\n",
       "      <td>NaN</td>\n",
       "      <td>NaN</td>\n",
       "      <td>1</td>\n",
       "    </tr>\n",
       "  </tbody>\n",
       "</table>\n",
       "</div>"
      ],
      "text/plain": [
       "   REF_DATE     GEO           DGUID                 Age group         Sex  \\\n",
       "0      2016  Canada  2016A000011124  Total, 15 years and over  Both sexes   \n",
       "1      2016  Canada  2016A000011124  Total, 15 years and over  Both sexes   \n",
       "2      2016  Canada  2016A000011124  Total, 15 years and over  Both sexes   \n",
       "3      2016  Canada  2016A000011124  Total, 15 years and over  Both sexes   \n",
       "4      2016  Canada  2016A000011124  Total, 15 years and over  Both sexes   \n",
       "5      2016  Canada  2016A000011124  Total, 15 years and over  Both sexes   \n",
       "\n",
       "          Employment type                                    Response  \\\n",
       "0  Total, employment type  Total, satisfaction with work-home balance   \n",
       "1  Total, employment type  Total, satisfaction with work-home balance   \n",
       "2  Total, employment type  Total, satisfaction with work-home balance   \n",
       "3  Total, employment type  Total, satisfaction with work-home balance   \n",
       "4  Total, employment type                 Very satisfied or satisfied   \n",
       "5  Total, employment type                 Very satisfied or satisfied   \n",
       "\n",
       "                               Estimates      UOM  UOM_ID SCALAR_FACTOR  \\\n",
       "0                      Number of persons  Persons     249     thousands   \n",
       "1                  Percentage of persons  Percent     239        units    \n",
       "2   Low 95% confidence interval, percent  Percent     239        units    \n",
       "3  High 95% confidence interval, percent  Percent     239        units    \n",
       "4                      Number of persons  Persons     249     thousands   \n",
       "5                  Percentage of persons  Percent     239        units    \n",
       "\n",
       "   SCALAR_ID      VECTOR   COORDINATE    VALUE STATUS  SYMBOL  TERMINATED  \\\n",
       "0          3  v120531032  1.1.1.1.1.1  20975.0    NaN     NaN         NaN   \n",
       "1          0  v120531033  1.1.1.1.1.2    100.0    NaN     NaN         NaN   \n",
       "2          0  v120531034  1.1.1.1.1.3    100.0    NaN     NaN         NaN   \n",
       "3          0  v120531035  1.1.1.1.1.4    100.0    NaN     NaN         NaN   \n",
       "4          3  v120531036  1.1.1.1.2.1  14286.0    NaN     NaN         NaN   \n",
       "5          0  v120531037  1.1.1.1.2.2     68.1    NaN     NaN         NaN   \n",
       "\n",
       "   DECIMALS  \n",
       "0         0  \n",
       "1         1  \n",
       "2         1  \n",
       "3         1  \n",
       "4         0  \n",
       "5         1  "
      ]
     },
     "execution_count": 4,
     "metadata": {},
     "output_type": "execute_result"
    }
   ],
   "source": [
    "# load Datasets\n",
    "df= pd.read_csv(\"C:/Users/singh/Downloads/14100207-eng/14100207.csv\")\n",
    "df.head(6)"
   ]
  },
  {
   "cell_type": "code",
   "execution_count": 5,
   "id": "926a4e32",
   "metadata": {},
   "outputs": [
    {
     "data": {
      "text/plain": [
       "(42120, 19)"
      ]
     },
     "execution_count": 5,
     "metadata": {},
     "output_type": "execute_result"
    }
   ],
   "source": [
    "df.shape"
   ]
  },
  {
   "cell_type": "code",
   "execution_count": 6,
   "id": "33c6bc3a",
   "metadata": {},
   "outputs": [
    {
     "data": {
      "text/html": [
       "<div>\n",
       "<style scoped>\n",
       "    .dataframe tbody tr th:only-of-type {\n",
       "        vertical-align: middle;\n",
       "    }\n",
       "\n",
       "    .dataframe tbody tr th {\n",
       "        vertical-align: top;\n",
       "    }\n",
       "\n",
       "    .dataframe thead th {\n",
       "        text-align: right;\n",
       "    }\n",
       "</style>\n",
       "<table border=\"1\" class=\"dataframe\">\n",
       "  <thead>\n",
       "    <tr style=\"text-align: right;\">\n",
       "      <th></th>\n",
       "      <th>GEO</th>\n",
       "      <th>Age group</th>\n",
       "      <th>Sex</th>\n",
       "      <th>Employment type</th>\n",
       "      <th>Response</th>\n",
       "      <th>Estimates</th>\n",
       "      <th>VALUE</th>\n",
       "    </tr>\n",
       "  </thead>\n",
       "  <tbody>\n",
       "    <tr>\n",
       "      <th>0</th>\n",
       "      <td>Canada</td>\n",
       "      <td>Total, 15 years and over</td>\n",
       "      <td>Both sexes</td>\n",
       "      <td>Total, employment type</td>\n",
       "      <td>Total, satisfaction with work-home balance</td>\n",
       "      <td>Number of persons</td>\n",
       "      <td>20975.0</td>\n",
       "    </tr>\n",
       "    <tr>\n",
       "      <th>1</th>\n",
       "      <td>Canada</td>\n",
       "      <td>Total, 15 years and over</td>\n",
       "      <td>Both sexes</td>\n",
       "      <td>Total, employment type</td>\n",
       "      <td>Total, satisfaction with work-home balance</td>\n",
       "      <td>Percentage of persons</td>\n",
       "      <td>100.0</td>\n",
       "    </tr>\n",
       "    <tr>\n",
       "      <th>2</th>\n",
       "      <td>Canada</td>\n",
       "      <td>Total, 15 years and over</td>\n",
       "      <td>Both sexes</td>\n",
       "      <td>Total, employment type</td>\n",
       "      <td>Total, satisfaction with work-home balance</td>\n",
       "      <td>Low 95% confidence interval, percent</td>\n",
       "      <td>100.0</td>\n",
       "    </tr>\n",
       "    <tr>\n",
       "      <th>3</th>\n",
       "      <td>Canada</td>\n",
       "      <td>Total, 15 years and over</td>\n",
       "      <td>Both sexes</td>\n",
       "      <td>Total, employment type</td>\n",
       "      <td>Total, satisfaction with work-home balance</td>\n",
       "      <td>High 95% confidence interval, percent</td>\n",
       "      <td>100.0</td>\n",
       "    </tr>\n",
       "    <tr>\n",
       "      <th>4</th>\n",
       "      <td>Canada</td>\n",
       "      <td>Total, 15 years and over</td>\n",
       "      <td>Both sexes</td>\n",
       "      <td>Total, employment type</td>\n",
       "      <td>Very satisfied or satisfied</td>\n",
       "      <td>Number of persons</td>\n",
       "      <td>14286.0</td>\n",
       "    </tr>\n",
       "    <tr>\n",
       "      <th>5</th>\n",
       "      <td>Canada</td>\n",
       "      <td>Total, 15 years and over</td>\n",
       "      <td>Both sexes</td>\n",
       "      <td>Total, employment type</td>\n",
       "      <td>Very satisfied or satisfied</td>\n",
       "      <td>Percentage of persons</td>\n",
       "      <td>68.1</td>\n",
       "    </tr>\n",
       "    <tr>\n",
       "      <th>6</th>\n",
       "      <td>Canada</td>\n",
       "      <td>Total, 15 years and over</td>\n",
       "      <td>Both sexes</td>\n",
       "      <td>Total, employment type</td>\n",
       "      <td>Very satisfied or satisfied</td>\n",
       "      <td>Low 95% confidence interval, percent</td>\n",
       "      <td>67.0</td>\n",
       "    </tr>\n",
       "    <tr>\n",
       "      <th>7</th>\n",
       "      <td>Canada</td>\n",
       "      <td>Total, 15 years and over</td>\n",
       "      <td>Both sexes</td>\n",
       "      <td>Total, employment type</td>\n",
       "      <td>Very satisfied or satisfied</td>\n",
       "      <td>High 95% confidence interval, percent</td>\n",
       "      <td>69.2</td>\n",
       "    </tr>\n",
       "  </tbody>\n",
       "</table>\n",
       "</div>"
      ],
      "text/plain": [
       "      GEO                 Age group         Sex         Employment type  \\\n",
       "0  Canada  Total, 15 years and over  Both sexes  Total, employment type   \n",
       "1  Canada  Total, 15 years and over  Both sexes  Total, employment type   \n",
       "2  Canada  Total, 15 years and over  Both sexes  Total, employment type   \n",
       "3  Canada  Total, 15 years and over  Both sexes  Total, employment type   \n",
       "4  Canada  Total, 15 years and over  Both sexes  Total, employment type   \n",
       "5  Canada  Total, 15 years and over  Both sexes  Total, employment type   \n",
       "6  Canada  Total, 15 years and over  Both sexes  Total, employment type   \n",
       "7  Canada  Total, 15 years and over  Both sexes  Total, employment type   \n",
       "\n",
       "                                     Response  \\\n",
       "0  Total, satisfaction with work-home balance   \n",
       "1  Total, satisfaction with work-home balance   \n",
       "2  Total, satisfaction with work-home balance   \n",
       "3  Total, satisfaction with work-home balance   \n",
       "4                 Very satisfied or satisfied   \n",
       "5                 Very satisfied or satisfied   \n",
       "6                 Very satisfied or satisfied   \n",
       "7                 Very satisfied or satisfied   \n",
       "\n",
       "                               Estimates    VALUE  \n",
       "0                      Number of persons  20975.0  \n",
       "1                  Percentage of persons    100.0  \n",
       "2   Low 95% confidence interval, percent    100.0  \n",
       "3  High 95% confidence interval, percent    100.0  \n",
       "4                      Number of persons  14286.0  \n",
       "5                  Percentage of persons     68.1  \n",
       "6   Low 95% confidence interval, percent     67.0  \n",
       "7  High 95% confidence interval, percent     69.2  "
      ]
     },
     "execution_count": 6,
     "metadata": {},
     "output_type": "execute_result"
    }
   ],
   "source": [
    "# dropping redundant columns having same info or irrelavant with job satisfaction\n",
    "df= df.drop(['REF_DATE','DGUID','UOM','UOM_ID','VECTOR','COORDINATE','STATUS','SYMBOL','TERMINATED','SCALAR_ID','DECIMALS','SCALAR_FACTOR'],axis=1)\n",
    "df.head(8)"
   ]
  },
  {
   "cell_type": "code",
   "execution_count": 7,
   "id": "f437694b",
   "metadata": {},
   "outputs": [
    {
     "data": {
      "text/plain": [
       "GEO                0\n",
       "Age group          0\n",
       "Sex                0\n",
       "Employment type    0\n",
       "Response           0\n",
       "Estimates          0\n",
       "VALUE              0\n",
       "dtype: int64"
      ]
     },
     "execution_count": 7,
     "metadata": {},
     "output_type": "execute_result"
    }
   ],
   "source": [
    "# Dropping the records with VALUE missing in data dataframe.\n",
    "df = df[~df.VALUE.isnull()].copy()\n",
    "\n",
    "# checking the missing values\n",
    "df.isnull().sum()"
   ]
  },
  {
   "cell_type": "code",
   "execution_count": 8,
   "id": "9df3fef7",
   "metadata": {},
   "outputs": [
    {
     "data": {
      "text/html": [
       "<div>\n",
       "<style scoped>\n",
       "    .dataframe tbody tr th:only-of-type {\n",
       "        vertical-align: middle;\n",
       "    }\n",
       "\n",
       "    .dataframe tbody tr th {\n",
       "        vertical-align: top;\n",
       "    }\n",
       "\n",
       "    .dataframe thead th {\n",
       "        text-align: right;\n",
       "    }\n",
       "</style>\n",
       "<table border=\"1\" class=\"dataframe\">\n",
       "  <thead>\n",
       "    <tr style=\"text-align: right;\">\n",
       "      <th></th>\n",
       "      <th>GEO</th>\n",
       "      <th>Age group</th>\n",
       "      <th>Sex</th>\n",
       "      <th>Employment type</th>\n",
       "      <th>Response</th>\n",
       "      <th>Estimates</th>\n",
       "      <th>VALUE</th>\n",
       "    </tr>\n",
       "  </thead>\n",
       "  <tbody>\n",
       "    <tr>\n",
       "      <th>1</th>\n",
       "      <td>Canada</td>\n",
       "      <td>Total, 15 years and over</td>\n",
       "      <td>Both sexes</td>\n",
       "      <td>Total, employment type</td>\n",
       "      <td>Total, satisfaction with work-home balance</td>\n",
       "      <td>Percentage of persons</td>\n",
       "      <td>100.0</td>\n",
       "    </tr>\n",
       "    <tr>\n",
       "      <th>5</th>\n",
       "      <td>Canada</td>\n",
       "      <td>Total, 15 years and over</td>\n",
       "      <td>Both sexes</td>\n",
       "      <td>Total, employment type</td>\n",
       "      <td>Very satisfied or satisfied</td>\n",
       "      <td>Percentage of persons</td>\n",
       "      <td>68.1</td>\n",
       "    </tr>\n",
       "  </tbody>\n",
       "</table>\n",
       "</div>"
      ],
      "text/plain": [
       "      GEO                 Age group         Sex         Employment type  \\\n",
       "1  Canada  Total, 15 years and over  Both sexes  Total, employment type   \n",
       "5  Canada  Total, 15 years and over  Both sexes  Total, employment type   \n",
       "\n",
       "                                     Response              Estimates  VALUE  \n",
       "1  Total, satisfaction with work-home balance  Percentage of persons  100.0  \n",
       "5                 Very satisfied or satisfied  Percentage of persons   68.1  "
      ]
     },
     "execution_count": 8,
     "metadata": {},
     "output_type": "execute_result"
    }
   ],
   "source": [
    "#For the 'VALUE' feature the content in the form of no. of persons, percentage ,low 95% confidence interval and High 95% confidence interval\n",
    "# so removing the first and last two content of 'VALUE' w.r.t the 'Estimates' feature\n",
    "df1=df.iloc[1::4]\n",
    "df1.head(2)"
   ]
  },
  {
   "cell_type": "code",
   "execution_count": 9,
   "id": "810864d6",
   "metadata": {},
   "outputs": [
    {
     "data": {
      "text/html": [
       "<div>\n",
       "<style scoped>\n",
       "    .dataframe tbody tr th:only-of-type {\n",
       "        vertical-align: middle;\n",
       "    }\n",
       "\n",
       "    .dataframe tbody tr th {\n",
       "        vertical-align: top;\n",
       "    }\n",
       "\n",
       "    .dataframe thead th {\n",
       "        text-align: right;\n",
       "    }\n",
       "</style>\n",
       "<table border=\"1\" class=\"dataframe\">\n",
       "  <thead>\n",
       "    <tr style=\"text-align: right;\">\n",
       "      <th></th>\n",
       "      <th>GEO</th>\n",
       "      <th>Age group</th>\n",
       "      <th>Sex</th>\n",
       "      <th>Employment type</th>\n",
       "      <th>Response</th>\n",
       "      <th>Estimates</th>\n",
       "      <th>VALUE</th>\n",
       "    </tr>\n",
       "  </thead>\n",
       "  <tbody>\n",
       "    <tr>\n",
       "      <th>1</th>\n",
       "      <td>Canada</td>\n",
       "      <td>Total, 15 years and over</td>\n",
       "      <td>Both sexes</td>\n",
       "      <td>Total, employment type</td>\n",
       "      <td>Total, satisfaction with work-home balance</td>\n",
       "      <td>Percentage of persons</td>\n",
       "      <td>100.0</td>\n",
       "    </tr>\n",
       "    <tr>\n",
       "      <th>5</th>\n",
       "      <td>Canada</td>\n",
       "      <td>Total, 15 years and over</td>\n",
       "      <td>Both sexes</td>\n",
       "      <td>Total, employment type</td>\n",
       "      <td>Very satisfied or satisfied</td>\n",
       "      <td>Percentage of persons</td>\n",
       "      <td>68.1</td>\n",
       "    </tr>\n",
       "    <tr>\n",
       "      <th>9</th>\n",
       "      <td>Canada</td>\n",
       "      <td>Total, 15 years and over</td>\n",
       "      <td>Both sexes</td>\n",
       "      <td>Total, employment type</td>\n",
       "      <td>Very satisfied</td>\n",
       "      <td>Percentage of persons</td>\n",
       "      <td>18.0</td>\n",
       "    </tr>\n",
       "    <tr>\n",
       "      <th>13</th>\n",
       "      <td>Canada</td>\n",
       "      <td>Total, 15 years and over</td>\n",
       "      <td>Both sexes</td>\n",
       "      <td>Total, employment type</td>\n",
       "      <td>Satisfied</td>\n",
       "      <td>Percentage of persons</td>\n",
       "      <td>50.1</td>\n",
       "    </tr>\n",
       "    <tr>\n",
       "      <th>17</th>\n",
       "      <td>Canada</td>\n",
       "      <td>Total, 15 years and over</td>\n",
       "      <td>Both sexes</td>\n",
       "      <td>Total, employment type</td>\n",
       "      <td>Neither satisfied nor dissatisfied</td>\n",
       "      <td>Percentage of persons</td>\n",
       "      <td>20.3</td>\n",
       "    </tr>\n",
       "    <tr>\n",
       "      <th>21</th>\n",
       "      <td>Canada</td>\n",
       "      <td>Total, 15 years and over</td>\n",
       "      <td>Both sexes</td>\n",
       "      <td>Total, employment type</td>\n",
       "      <td>Dissatisfied or very dissatisfied</td>\n",
       "      <td>Percentage of persons</td>\n",
       "      <td>10.7</td>\n",
       "    </tr>\n",
       "    <tr>\n",
       "      <th>25</th>\n",
       "      <td>Canada</td>\n",
       "      <td>Total, 15 years and over</td>\n",
       "      <td>Both sexes</td>\n",
       "      <td>Total, employment type</td>\n",
       "      <td>Dissatisfied</td>\n",
       "      <td>Percentage of persons</td>\n",
       "      <td>9.3</td>\n",
       "    </tr>\n",
       "    <tr>\n",
       "      <th>29</th>\n",
       "      <td>Canada</td>\n",
       "      <td>Total, 15 years and over</td>\n",
       "      <td>Both sexes</td>\n",
       "      <td>Total, employment type</td>\n",
       "      <td>Very dissatisfied</td>\n",
       "      <td>Percentage of persons</td>\n",
       "      <td>1.3</td>\n",
       "    </tr>\n",
       "    <tr>\n",
       "      <th>33</th>\n",
       "      <td>Canada</td>\n",
       "      <td>Total, 15 years and over</td>\n",
       "      <td>Both sexes</td>\n",
       "      <td>Total, employment type</td>\n",
       "      <td>unknown</td>\n",
       "      <td>Percentage of persons</td>\n",
       "      <td>0.9</td>\n",
       "    </tr>\n",
       "    <tr>\n",
       "      <th>37</th>\n",
       "      <td>Canada</td>\n",
       "      <td>Total, 15 years and over</td>\n",
       "      <td>Both sexes</td>\n",
       "      <td>Paid worker</td>\n",
       "      <td>Total, satisfaction with work-home balance</td>\n",
       "      <td>Percentage of persons</td>\n",
       "      <td>100.0</td>\n",
       "    </tr>\n",
       "  </tbody>\n",
       "</table>\n",
       "</div>"
      ],
      "text/plain": [
       "       GEO                 Age group         Sex         Employment type  \\\n",
       "1   Canada  Total, 15 years and over  Both sexes  Total, employment type   \n",
       "5   Canada  Total, 15 years and over  Both sexes  Total, employment type   \n",
       "9   Canada  Total, 15 years and over  Both sexes  Total, employment type   \n",
       "13  Canada  Total, 15 years and over  Both sexes  Total, employment type   \n",
       "17  Canada  Total, 15 years and over  Both sexes  Total, employment type   \n",
       "21  Canada  Total, 15 years and over  Both sexes  Total, employment type   \n",
       "25  Canada  Total, 15 years and over  Both sexes  Total, employment type   \n",
       "29  Canada  Total, 15 years and over  Both sexes  Total, employment type   \n",
       "33  Canada  Total, 15 years and over  Both sexes  Total, employment type   \n",
       "37  Canada  Total, 15 years and over  Both sexes             Paid worker   \n",
       "\n",
       "                                      Response              Estimates  VALUE  \n",
       "1   Total, satisfaction with work-home balance  Percentage of persons  100.0  \n",
       "5                  Very satisfied or satisfied  Percentage of persons   68.1  \n",
       "9                               Very satisfied  Percentage of persons   18.0  \n",
       "13                                   Satisfied  Percentage of persons   50.1  \n",
       "17          Neither satisfied nor dissatisfied  Percentage of persons   20.3  \n",
       "21           Dissatisfied or very dissatisfied  Percentage of persons   10.7  \n",
       "25                                Dissatisfied  Percentage of persons    9.3  \n",
       "29                           Very dissatisfied  Percentage of persons    1.3  \n",
       "33                                     unknown  Percentage of persons    0.9  \n",
       "37  Total, satisfaction with work-home balance  Percentage of persons  100.0  "
      ]
     },
     "execution_count": 9,
     "metadata": {},
     "output_type": "execute_result"
    }
   ],
   "source": [
    "df2=df1.copy()\n",
    "## renaming one of the string of 'Response' feature with unknown\n",
    "df2.loc[df2['Response'] == \"Don't know/refusal/not stated\", 'Response'] ='unknown'\n",
    "df2.head(10)"
   ]
  },
  {
   "cell_type": "code",
   "execution_count": 10,
   "id": "1c42239f",
   "metadata": {},
   "outputs": [
    {
     "data": {
      "text/html": [
       "<div>\n",
       "<style scoped>\n",
       "    .dataframe tbody tr th:only-of-type {\n",
       "        vertical-align: middle;\n",
       "    }\n",
       "\n",
       "    .dataframe tbody tr th {\n",
       "        vertical-align: top;\n",
       "    }\n",
       "\n",
       "    .dataframe thead th {\n",
       "        text-align: right;\n",
       "    }\n",
       "</style>\n",
       "<table border=\"1\" class=\"dataframe\">\n",
       "  <thead>\n",
       "    <tr style=\"text-align: right;\">\n",
       "      <th></th>\n",
       "      <th>GEO</th>\n",
       "      <th>Age</th>\n",
       "      <th>Sex</th>\n",
       "      <th>Employment_type</th>\n",
       "      <th>Response</th>\n",
       "      <th>Estimates</th>\n",
       "      <th>VALUE</th>\n",
       "    </tr>\n",
       "  </thead>\n",
       "  <tbody>\n",
       "    <tr>\n",
       "      <th>1</th>\n",
       "      <td>Canada</td>\n",
       "      <td>Total, 15 years and over</td>\n",
       "      <td>Both sexes</td>\n",
       "      <td>Total, employment type</td>\n",
       "      <td>Total, satisfaction with work-home balance</td>\n",
       "      <td>Percentage of persons</td>\n",
       "      <td>100.0</td>\n",
       "    </tr>\n",
       "    <tr>\n",
       "      <th>5</th>\n",
       "      <td>Canada</td>\n",
       "      <td>Total, 15 years and over</td>\n",
       "      <td>Both sexes</td>\n",
       "      <td>Total, employment type</td>\n",
       "      <td>Very satisfied or satisfied</td>\n",
       "      <td>Percentage of persons</td>\n",
       "      <td>68.1</td>\n",
       "    </tr>\n",
       "  </tbody>\n",
       "</table>\n",
       "</div>"
      ],
      "text/plain": [
       "      GEO                       Age         Sex         Employment_type  \\\n",
       "1  Canada  Total, 15 years and over  Both sexes  Total, employment type   \n",
       "5  Canada  Total, 15 years and over  Both sexes  Total, employment type   \n",
       "\n",
       "                                     Response              Estimates  VALUE  \n",
       "1  Total, satisfaction with work-home balance  Percentage of persons  100.0  \n",
       "5                 Very satisfied or satisfied  Percentage of persons   68.1  "
      ]
     },
     "execution_count": 10,
     "metadata": {},
     "output_type": "execute_result"
    }
   ],
   "source": [
    "df2.rename(columns = {'Age group':'Age'}, inplace = True)\n",
    "df2.rename(columns = {'Employment type':'Employment_type'}, inplace = True)\n",
    "df2.head(2)"
   ]
  },
  {
   "cell_type": "markdown",
   "id": "68c18d5e",
   "metadata": {},
   "source": [
    "# DATA VISUALISATION"
   ]
  },
  {
   "cell_type": "code",
   "execution_count": 11,
   "id": "f98b76f3",
   "metadata": {},
   "outputs": [],
   "source": [
    "from pywaffle import Waffle"
   ]
  },
  {
   "cell_type": "code",
   "execution_count": 12,
   "id": "9d655709",
   "metadata": {},
   "outputs": [],
   "source": [
    "# create dictionary with key value pairs for waffle chart values\n",
    "Response = dict(df1.Response.value_counts())\n",
    "# Response"
   ]
  },
  {
   "cell_type": "code",
   "execution_count": 13,
   "id": "c5f313bb",
   "metadata": {},
   "outputs": [
    {
     "data": {
      "text/plain": [
       "['Total, satisfaction with work-home balance Response: 20.4%',\n",
       " 'Very satisfied or satisfied Response: 19.7%',\n",
       " 'Satisfied Response: 17.8%',\n",
       " 'Very satisfied Response: 13.0%',\n",
       " 'Neither satisfied nor dissatisfied Response: 11.5%',\n",
       " 'Dissatisfied or very dissatisfied Response: 8.0%',\n",
       " 'Dissatisfied Response: 7.4%',\n",
       " 'Very dissatisfied Response: 1.5%',\n",
       " 'unknown Response: 0.8%']"
      ]
     },
     "execution_count": 13,
     "metadata": {},
     "output_type": "execute_result"
    }
   ],
   "source": [
    "# labels with percents for legend\n",
    "percent = dict(df2.Response.value_counts(normalize=True))\n",
    "labels = [f'{k} Response: {v*100:.1f}%' for k,v in percent.items()]\n",
    "labels"
   ]
  },
  {
   "cell_type": "code",
   "execution_count": 14,
   "id": "9d3cfb7c",
   "metadata": {},
   "outputs": [
    {
     "data": {
      "image/png": "[encoded data removed]",
      "text/plain": [
       "<Waffle size 1296x576 with 1 Axes>"
      ]
     },
     "metadata": {},
     "output_type": "display_data"
    }
   ],
   "source": [
    "# waffle chart to visualize reponse feature affects on datasets:\n",
    "fig = plt.figure(FigureClass=Waffle,\n",
    "                 figsize=(18,8),\n",
    "                 rows=3,\n",
    "                 columns=25,\n",
    "                 values=Response,\n",
    "                 legend={'loc': (1.05, 0.5), 'labels': labels},\n",
    "                 title={'label': 'Job satisfaction'},\n",
    "                 cmap_name='Dark2')"
   ]
  },
  {
   "cell_type": "code",
   "execution_count": null,
   "id": "fbd62a60",
   "metadata": {},
   "outputs": [],
   "source": [
    "          "
   ]
  },
  {
   "cell_type": "code",
   "execution_count": 15,
   "id": "672cd3e4",
   "metadata": {},
   "outputs": [
    {
     "name": "stdout",
     "output_type": "stream",
     "text": [
      "Both sexes    0.387602\n",
      "Males         0.312098\n",
      "Females       0.300300\n",
      "Name: Sex, dtype: float64\n"
     ]
    },
    {
     "data": {
      "image/png": "[encoded data removed]",
      "text/plain": [
       "<Figure size 432x288 with 1 Axes>"
      ]
     },
     "metadata": {},
     "output_type": "display_data"
    }
   ],
   "source": [
    "# Let's calculate the percentage of sex category \n",
    "print(df2.Sex.value_counts(normalize=True))\n",
    "\n",
    "#plot the bar graph of percentage sex categories\n",
    "df2.Sex.value_counts(normalize=True).plot.barh()\n",
    "plt.show()"
   ]
  },
  {
   "cell_type": "code",
   "execution_count": null,
   "id": "26ce2d91",
   "metadata": {},
   "outputs": [],
   "source": []
  },
  {
   "cell_type": "code",
   "execution_count": 16,
   "id": "bd962cae",
   "metadata": {},
   "outputs": [
    {
     "data": {
      "image/png": "[encoded data removed]",
      "text/plain": [
       "<Figure size 576x432 with 1 Axes>"
      ]
     },
     "metadata": {},
     "output_type": "display_data"
    }
   ],
   "source": [
    "#calculate the percentage of each job status category\n",
    "plt.figure(figsize=(8,6))\n",
    "\n",
    "Employment_type = df2.groupby(['Employment_type'])['Employment_type'].count()\n",
    "labels = list(Employment_type.index)\n",
    "data = list(Employment_type)\n",
    "plt.title('Percentage Of Employment type')\n",
    "plt.axis('equal')\n",
    "# plt.pie(x=data, autopct='%.2f%%',\n",
    "#          startangle=90)\n",
    "plt.pie(data,  autopct='%1.1f%%', pctdistance=1.1, labeldistance=1.2)\n",
    "\n",
    "plt.legend(labels)\n",
    "plt.show() \n",
    "\n"
   ]
  },
  {
   "cell_type": "code",
   "execution_count": 17,
   "id": "7ceaad4b",
   "metadata": {},
   "outputs": [
    {
     "data": {
      "image/png": "[encoded data removed]",
      "text/plain": [
       "<Figure size 576x432 with 1 Axes>"
      ]
     },
     "metadata": {},
     "output_type": "display_data"
    }
   ],
   "source": [
    "#calculate the percentage of  age  category\n",
    "plt.figure(figsize=(8,6))\n",
    "Age = df2.groupby(['Age'])['Age'].count()\n",
    "labels = list(Age.index)\n",
    "data = list(Age)\n",
    "plt.title('Percentage Of Person with diff age group')\n",
    "plt.axis('equal')\n",
    "plt.pie(data,  autopct='%1.1f%%', pctdistance=1.1, labeldistance=1.2)\n",
    "\n",
    "plt.legend(labels)\n",
    "plt.show() "
   ]
  },
  {
   "cell_type": "code",
   "execution_count": 18,
   "id": "4ee86dd4",
   "metadata": {},
   "outputs": [
    {
     "data": {
      "image/png": "[encoded data removed]",
      "text/plain": [
       "<Figure size 432x288 with 1 Axes>"
      ]
     },
     "metadata": {},
     "output_type": "display_data"
    }
   ],
   "source": [
    "#calculate the percentage of  age  category\n",
    "import matplotlib.pyplot as plt\n",
    "\n",
    "\n",
    "# explosion\n",
    "explode = (0.05, 0.05, 0.05, 0.05, 0.05,0.05, 0.05, 0.05, 0.05, 0.05)\n",
    "\n",
    "# Pie Chart\n",
    "plt.pie(data, labels=labels,\n",
    "        autopct='%1.1f%%', pctdistance=0.85,\n",
    "        explode=explode)\n",
    "\n",
    "# draw circle\n",
    "centre_circle = plt.Circle((0, 0), 0.70, fc='white')\n",
    "fig = plt.gcf()\n",
    "\n",
    "# Adding Circle in Pie chart\n",
    "fig.gca().add_artist(centre_circle)\n",
    "\n",
    "# Adding Title of chart\n",
    "plt.title('Age Group')\n",
    "\n",
    "# Displaying Chart\n",
    "plt.show()\n"
   ]
  },
  {
   "cell_type": "markdown",
   "id": "74622eba",
   "metadata": {},
   "source": [
    "# ols model to analyse the relationship between independent variables that is GEO, Sex ,Employment type and dependent variable that is Response"
   ]
  },
  {
   "cell_type": "code",
   "execution_count": 19,
   "id": "6dfb2c83",
   "metadata": {},
   "outputs": [],
   "source": [
    "import statsmodels.api as sm"
   ]
  },
  {
   "cell_type": "code",
   "execution_count": 20,
   "id": "36636878",
   "metadata": {},
   "outputs": [],
   "source": [
    "df4=df2.copy()"
   ]
  },
  {
   "cell_type": "code",
   "execution_count": 21,
   "id": "16d9f2d7",
   "metadata": {},
   "outputs": [
    {
     "data": {
      "text/html": [
       "<div>\n",
       "<style scoped>\n",
       "    .dataframe tbody tr th:only-of-type {\n",
       "        vertical-align: middle;\n",
       "    }\n",
       "\n",
       "    .dataframe tbody tr th {\n",
       "        vertical-align: top;\n",
       "    }\n",
       "\n",
       "    .dataframe thead th {\n",
       "        text-align: right;\n",
       "    }\n",
       "</style>\n",
       "<table border=\"1\" class=\"dataframe\">\n",
       "  <thead>\n",
       "    <tr style=\"text-align: right;\">\n",
       "      <th></th>\n",
       "      <th>GEO</th>\n",
       "      <th>Age</th>\n",
       "      <th>Sex</th>\n",
       "      <th>Employment_type</th>\n",
       "      <th>Response</th>\n",
       "      <th>Estimates</th>\n",
       "      <th>VALUE</th>\n",
       "    </tr>\n",
       "  </thead>\n",
       "  <tbody>\n",
       "    <tr>\n",
       "      <th>1</th>\n",
       "      <td>Canada</td>\n",
       "      <td>Total, 15 years and over</td>\n",
       "      <td>Both sexes</td>\n",
       "      <td>Total, employment type</td>\n",
       "      <td>8</td>\n",
       "      <td>Percentage of persons</td>\n",
       "      <td>100.0</td>\n",
       "    </tr>\n",
       "    <tr>\n",
       "      <th>5</th>\n",
       "      <td>Canada</td>\n",
       "      <td>Total, 15 years and over</td>\n",
       "      <td>Both sexes</td>\n",
       "      <td>Total, employment type</td>\n",
       "      <td>6</td>\n",
       "      <td>Percentage of persons</td>\n",
       "      <td>68.1</td>\n",
       "    </tr>\n",
       "    <tr>\n",
       "      <th>9</th>\n",
       "      <td>Canada</td>\n",
       "      <td>Total, 15 years and over</td>\n",
       "      <td>Both sexes</td>\n",
       "      <td>Total, employment type</td>\n",
       "      <td>7</td>\n",
       "      <td>Percentage of persons</td>\n",
       "      <td>18.0</td>\n",
       "    </tr>\n",
       "    <tr>\n",
       "      <th>13</th>\n",
       "      <td>Canada</td>\n",
       "      <td>Total, 15 years and over</td>\n",
       "      <td>Both sexes</td>\n",
       "      <td>Total, employment type</td>\n",
       "      <td>5</td>\n",
       "      <td>Percentage of persons</td>\n",
       "      <td>50.1</td>\n",
       "    </tr>\n",
       "    <tr>\n",
       "      <th>17</th>\n",
       "      <td>Canada</td>\n",
       "      <td>Total, 15 years and over</td>\n",
       "      <td>Both sexes</td>\n",
       "      <td>Total, employment type</td>\n",
       "      <td>4</td>\n",
       "      <td>Percentage of persons</td>\n",
       "      <td>20.3</td>\n",
       "    </tr>\n",
       "    <tr>\n",
       "      <th>21</th>\n",
       "      <td>Canada</td>\n",
       "      <td>Total, 15 years and over</td>\n",
       "      <td>Both sexes</td>\n",
       "      <td>Total, employment type</td>\n",
       "      <td>2</td>\n",
       "      <td>Percentage of persons</td>\n",
       "      <td>10.7</td>\n",
       "    </tr>\n",
       "    <tr>\n",
       "      <th>25</th>\n",
       "      <td>Canada</td>\n",
       "      <td>Total, 15 years and over</td>\n",
       "      <td>Both sexes</td>\n",
       "      <td>Total, employment type</td>\n",
       "      <td>3</td>\n",
       "      <td>Percentage of persons</td>\n",
       "      <td>9.3</td>\n",
       "    </tr>\n",
       "    <tr>\n",
       "      <th>29</th>\n",
       "      <td>Canada</td>\n",
       "      <td>Total, 15 years and over</td>\n",
       "      <td>Both sexes</td>\n",
       "      <td>Total, employment type</td>\n",
       "      <td>1</td>\n",
       "      <td>Percentage of persons</td>\n",
       "      <td>1.3</td>\n",
       "    </tr>\n",
       "    <tr>\n",
       "      <th>33</th>\n",
       "      <td>Canada</td>\n",
       "      <td>Total, 15 years and over</td>\n",
       "      <td>Both sexes</td>\n",
       "      <td>Total, employment type</td>\n",
       "      <td>0</td>\n",
       "      <td>Percentage of persons</td>\n",
       "      <td>0.9</td>\n",
       "    </tr>\n",
       "  </tbody>\n",
       "</table>\n",
       "</div>"
      ],
      "text/plain": [
       "       GEO                       Age         Sex         Employment_type  \\\n",
       "1   Canada  Total, 15 years and over  Both sexes  Total, employment type   \n",
       "5   Canada  Total, 15 years and over  Both sexes  Total, employment type   \n",
       "9   Canada  Total, 15 years and over  Both sexes  Total, employment type   \n",
       "13  Canada  Total, 15 years and over  Both sexes  Total, employment type   \n",
       "17  Canada  Total, 15 years and over  Both sexes  Total, employment type   \n",
       "21  Canada  Total, 15 years and over  Both sexes  Total, employment type   \n",
       "25  Canada  Total, 15 years and over  Both sexes  Total, employment type   \n",
       "29  Canada  Total, 15 years and over  Both sexes  Total, employment type   \n",
       "33  Canada  Total, 15 years and over  Both sexes  Total, employment type   \n",
       "\n",
       "   Response              Estimates  VALUE  \n",
       "1         8  Percentage of persons  100.0  \n",
       "5         6  Percentage of persons   68.1  \n",
       "9         7  Percentage of persons   18.0  \n",
       "13        5  Percentage of persons   50.1  \n",
       "17        4  Percentage of persons   20.3  \n",
       "21        2  Percentage of persons   10.7  \n",
       "25        3  Percentage of persons    9.3  \n",
       "29        1  Percentage of persons    1.3  \n",
       "33        0  Percentage of persons    0.9  "
      ]
     },
     "execution_count": 21,
     "metadata": {},
     "output_type": "execute_result"
    }
   ],
   "source": [
    "df4.Response[(df4.Response == 'Total, satisfaction with work-home balance')]=8\n",
    "df4.Response[(df4.Response == 'Very satisfied')]=7\n",
    "df4.Response[(df4.Response== 'Very satisfied or satisfied')]=6\n",
    "df4.Response[(df4.Response == 'Satisfied')]=5\n",
    "df4.Response[(df4.Response == 'Neither satisfied nor dissatisfied')]=4\n",
    "df4.Response[(df4.Response == 'Dissatisfied')]=3\n",
    "df4.Response[(df4.Response== 'Very dissatisfied')]=1\n",
    "df4.Response[(df4.Response == 'Dissatisfied or very dissatisfied')]=2\n",
    "df4.Response[(df4.Response == 'unknown')]= 0\n",
    "df4.head(9)"
   ]
  },
  {
   "cell_type": "code",
   "execution_count": 22,
   "id": "88856363",
   "metadata": {},
   "outputs": [],
   "source": [
    "df4['Response']=df4['Response'].astype('int')"
   ]
  },
  {
   "cell_type": "code",
   "execution_count": 23,
   "id": "8a4b1870",
   "metadata": {},
   "outputs": [
    {
     "data": {
      "text/html": [
       "<div>\n",
       "<style scoped>\n",
       "    .dataframe tbody tr th:only-of-type {\n",
       "        vertical-align: middle;\n",
       "    }\n",
       "\n",
       "    .dataframe tbody tr th {\n",
       "        vertical-align: top;\n",
       "    }\n",
       "\n",
       "    .dataframe thead th {\n",
       "        text-align: right;\n",
       "    }\n",
       "</style>\n",
       "<table border=\"1\" class=\"dataframe\">\n",
       "  <thead>\n",
       "    <tr style=\"text-align: right;\">\n",
       "      <th></th>\n",
       "      <th>GEO</th>\n",
       "      <th>Response</th>\n",
       "      <th>Employment_type</th>\n",
       "      <th>Sex</th>\n",
       "    </tr>\n",
       "  </thead>\n",
       "  <tbody>\n",
       "    <tr>\n",
       "      <th>1</th>\n",
       "      <td>Canada</td>\n",
       "      <td>8</td>\n",
       "      <td>Total, employment type</td>\n",
       "      <td>Both sexes</td>\n",
       "    </tr>\n",
       "    <tr>\n",
       "      <th>5</th>\n",
       "      <td>Canada</td>\n",
       "      <td>6</td>\n",
       "      <td>Total, employment type</td>\n",
       "      <td>Both sexes</td>\n",
       "    </tr>\n",
       "    <tr>\n",
       "      <th>9</th>\n",
       "      <td>Canada</td>\n",
       "      <td>7</td>\n",
       "      <td>Total, employment type</td>\n",
       "      <td>Both sexes</td>\n",
       "    </tr>\n",
       "    <tr>\n",
       "      <th>13</th>\n",
       "      <td>Canada</td>\n",
       "      <td>5</td>\n",
       "      <td>Total, employment type</td>\n",
       "      <td>Both sexes</td>\n",
       "    </tr>\n",
       "    <tr>\n",
       "      <th>17</th>\n",
       "      <td>Canada</td>\n",
       "      <td>4</td>\n",
       "      <td>Total, employment type</td>\n",
       "      <td>Both sexes</td>\n",
       "    </tr>\n",
       "    <tr>\n",
       "      <th>...</th>\n",
       "      <td>...</td>\n",
       "      <td>...</td>\n",
       "      <td>...</td>\n",
       "      <td>...</td>\n",
       "    </tr>\n",
       "    <tr>\n",
       "      <th>41803</th>\n",
       "      <td>British Columbia</td>\n",
       "      <td>6</td>\n",
       "      <td>Total, employment type</td>\n",
       "      <td>Both sexes</td>\n",
       "    </tr>\n",
       "    <tr>\n",
       "      <th>41871</th>\n",
       "      <td>British Columbia</td>\n",
       "      <td>8</td>\n",
       "      <td>Self-employed</td>\n",
       "      <td>Both sexes</td>\n",
       "    </tr>\n",
       "    <tr>\n",
       "      <th>41875</th>\n",
       "      <td>British Columbia</td>\n",
       "      <td>6</td>\n",
       "      <td>Self-employed</td>\n",
       "      <td>Both sexes</td>\n",
       "    </tr>\n",
       "    <tr>\n",
       "      <th>41907</th>\n",
       "      <td>British Columbia</td>\n",
       "      <td>8</td>\n",
       "      <td>Total, employment type</td>\n",
       "      <td>Males</td>\n",
       "    </tr>\n",
       "    <tr>\n",
       "      <th>41911</th>\n",
       "      <td>British Columbia</td>\n",
       "      <td>6</td>\n",
       "      <td>Total, employment type</td>\n",
       "      <td>Males</td>\n",
       "    </tr>\n",
       "  </tbody>\n",
       "</table>\n",
       "<p>4662 rows × 4 columns</p>\n",
       "</div>"
      ],
      "text/plain": [
       "                    GEO  Response         Employment_type         Sex\n",
       "1                Canada         8  Total, employment type  Both sexes\n",
       "5                Canada         6  Total, employment type  Both sexes\n",
       "9                Canada         7  Total, employment type  Both sexes\n",
       "13               Canada         5  Total, employment type  Both sexes\n",
       "17               Canada         4  Total, employment type  Both sexes\n",
       "...                 ...       ...                     ...         ...\n",
       "41803  British Columbia         6  Total, employment type  Both sexes\n",
       "41871  British Columbia         8           Self-employed  Both sexes\n",
       "41875  British Columbia         6           Self-employed  Both sexes\n",
       "41907  British Columbia         8  Total, employment type       Males\n",
       "41911  British Columbia         6  Total, employment type       Males\n",
       "\n",
       "[4662 rows x 4 columns]"
      ]
     },
     "execution_count": 23,
     "metadata": {},
     "output_type": "execute_result"
    }
   ],
   "source": [
    "ols_df=df4[['GEO','Response','Employment_type','Sex']]\n",
    "ols_df"
   ]
  },
  {
   "cell_type": "code",
   "execution_count": 24,
   "id": "f3a68c94",
   "metadata": {},
   "outputs": [],
   "source": [
    "# ols_df=ols_df"
   ]
  },
  {
   "cell_type": "code",
   "execution_count": 25,
   "id": "02bae489",
   "metadata": {},
   "outputs": [
    {
     "data": {
      "text/html": [
       "<div>\n",
       "<style scoped>\n",
       "    .dataframe tbody tr th:only-of-type {\n",
       "        vertical-align: middle;\n",
       "    }\n",
       "\n",
       "    .dataframe tbody tr th {\n",
       "        vertical-align: top;\n",
       "    }\n",
       "\n",
       "    .dataframe thead th {\n",
       "        text-align: right;\n",
       "    }\n",
       "</style>\n",
       "<table border=\"1\" class=\"dataframe\">\n",
       "  <thead>\n",
       "    <tr style=\"text-align: right;\">\n",
       "      <th></th>\n",
       "      <th>Response</th>\n",
       "      <th>GEO_Alberta</th>\n",
       "      <th>GEO_Atlantic provinces</th>\n",
       "      <th>GEO_British Columbia</th>\n",
       "      <th>GEO_Canada</th>\n",
       "      <th>GEO_Manitoba</th>\n",
       "      <th>GEO_New Brunswick</th>\n",
       "      <th>GEO_Newfoundland and Labrador</th>\n",
       "      <th>GEO_Nova Scotia</th>\n",
       "      <th>GEO_Ontario</th>\n",
       "      <th>GEO_Prairie provinces</th>\n",
       "      <th>GEO_Prince Edward Island</th>\n",
       "      <th>GEO_Quebec</th>\n",
       "      <th>GEO_Saskatchewan</th>\n",
       "      <th>Employment_type_Paid worker</th>\n",
       "      <th>Employment_type_Self-employed</th>\n",
       "      <th>Employment_type_Total, employment type</th>\n",
       "      <th>Sex_Both sexes</th>\n",
       "      <th>Sex_Females</th>\n",
       "      <th>Sex_Males</th>\n",
       "    </tr>\n",
       "  </thead>\n",
       "  <tbody>\n",
       "    <tr>\n",
       "      <th>1</th>\n",
       "      <td>8</td>\n",
       "      <td>0</td>\n",
       "      <td>0</td>\n",
       "      <td>0</td>\n",
       "      <td>1</td>\n",
       "      <td>0</td>\n",
       "      <td>0</td>\n",
       "      <td>0</td>\n",
       "      <td>0</td>\n",
       "      <td>0</td>\n",
       "      <td>0</td>\n",
       "      <td>0</td>\n",
       "      <td>0</td>\n",
       "      <td>0</td>\n",
       "      <td>0</td>\n",
       "      <td>0</td>\n",
       "      <td>1</td>\n",
       "      <td>1</td>\n",
       "      <td>0</td>\n",
       "      <td>0</td>\n",
       "    </tr>\n",
       "    <tr>\n",
       "      <th>5</th>\n",
       "      <td>6</td>\n",
       "      <td>0</td>\n",
       "      <td>0</td>\n",
       "      <td>0</td>\n",
       "      <td>1</td>\n",
       "      <td>0</td>\n",
       "      <td>0</td>\n",
       "      <td>0</td>\n",
       "      <td>0</td>\n",
       "      <td>0</td>\n",
       "      <td>0</td>\n",
       "      <td>0</td>\n",
       "      <td>0</td>\n",
       "      <td>0</td>\n",
       "      <td>0</td>\n",
       "      <td>0</td>\n",
       "      <td>1</td>\n",
       "      <td>1</td>\n",
       "      <td>0</td>\n",
       "      <td>0</td>\n",
       "    </tr>\n",
       "  </tbody>\n",
       "</table>\n",
       "</div>"
      ],
      "text/plain": [
       "   Response  GEO_Alberta  GEO_Atlantic provinces  GEO_British Columbia  \\\n",
       "1         8            0                       0                     0   \n",
       "5         6            0                       0                     0   \n",
       "\n",
       "   GEO_Canada  GEO_Manitoba  GEO_New Brunswick  GEO_Newfoundland and Labrador  \\\n",
       "1           1             0                  0                              0   \n",
       "5           1             0                  0                              0   \n",
       "\n",
       "   GEO_Nova Scotia  GEO_Ontario  GEO_Prairie provinces  \\\n",
       "1                0            0                      0   \n",
       "5                0            0                      0   \n",
       "\n",
       "   GEO_Prince Edward Island  GEO_Quebec  GEO_Saskatchewan  \\\n",
       "1                         0           0                 0   \n",
       "5                         0           0                 0   \n",
       "\n",
       "   Employment_type_Paid worker  Employment_type_Self-employed  \\\n",
       "1                            0                              0   \n",
       "5                            0                              0   \n",
       "\n",
       "   Employment_type_Total, employment type  Sex_Both sexes  Sex_Females  \\\n",
       "1                                       1               1            0   \n",
       "5                                       1               1            0   \n",
       "\n",
       "   Sex_Males  \n",
       "1          0  \n",
       "5          0  "
      ]
     },
     "execution_count": 25,
     "metadata": {},
     "output_type": "execute_result"
    }
   ],
   "source": [
    "ols_df=pd.get_dummies(ols_df)\n",
    "ols_df.head(2)"
   ]
  },
  {
   "cell_type": "code",
   "execution_count": 26,
   "id": "c7474d84",
   "metadata": {},
   "outputs": [],
   "source": [
    "# ols_df.info()"
   ]
  },
  {
   "cell_type": "code",
   "execution_count": null,
   "id": "c7f4efde",
   "metadata": {},
   "outputs": [],
   "source": []
  },
  {
   "cell_type": "code",
   "execution_count": 27,
   "id": "25b9758f",
   "metadata": {},
   "outputs": [
    {
     "data": {
      "text/html": [
       "<table class=\"simpletable\">\n",
       "<caption>OLS Regression Results</caption>\n",
       "<tr>\n",
       "  <th>Dep. Variable:</th>        <td>Response</td>     <th>  R-squared:         </th> <td>   0.052</td> \n",
       "</tr>\n",
       "<tr>\n",
       "  <th>Model:</th>                   <td>OLS</td>       <th>  Adj. R-squared:    </th> <td>   0.050</td> \n",
       "</tr>\n",
       "<tr>\n",
       "  <th>Method:</th>             <td>Least Squares</td>  <th>  F-statistic:       </th> <td>   21.36</td> \n",
       "</tr>\n",
       "<tr>\n",
       "  <th>Date:</th>             <td>Sun, 30 Apr 2023</td> <th>  Prob (F-statistic):</th> <td>1.53e-46</td> \n",
       "</tr>\n",
       "<tr>\n",
       "  <th>Time:</th>                 <td>01:06:43</td>     <th>  Log-Likelihood:    </th> <td> -9671.8</td> \n",
       "</tr>\n",
       "<tr>\n",
       "  <th>No. Observations:</th>      <td>  4662</td>      <th>  AIC:               </th> <td>1.937e+04</td>\n",
       "</tr>\n",
       "<tr>\n",
       "  <th>Df Residuals:</th>          <td>  4649</td>      <th>  BIC:               </th> <td>1.945e+04</td>\n",
       "</tr>\n",
       "<tr>\n",
       "  <th>Df Model:</th>              <td>    12</td>      <th>                     </th>     <td> </td>    \n",
       "</tr>\n",
       "<tr>\n",
       "  <th>Covariance Type:</th>      <td>nonrobust</td>    <th>                     </th>     <td> </td>    \n",
       "</tr>\n",
       "</table>\n",
       "<table class=\"simpletable\">\n",
       "<tr>\n",
       "                     <td></td>                       <th>coef</th>     <th>std err</th>      <th>t</th>      <th>P>|t|</th>  <th>[0.025</th>    <th>0.975]</th>  \n",
       "</tr>\n",
       "<tr>\n",
       "  <th>GEO_Alberta</th>                            <td>   -0.2371</td> <td>    0.118</td> <td>   -2.001</td> <td> 0.045</td> <td>   -0.469</td> <td>   -0.005</td>\n",
       "</tr>\n",
       "<tr>\n",
       "  <th>GEO_Atlantic provinces</th>                 <td>   -0.3566</td> <td>    0.110</td> <td>   -3.248</td> <td> 0.001</td> <td>   -0.572</td> <td>   -0.141</td>\n",
       "</tr>\n",
       "<tr>\n",
       "  <th>GEO_Canada</th>                             <td>   -0.9350</td> <td>    0.095</td> <td>   -9.816</td> <td> 0.000</td> <td>   -1.122</td> <td>   -0.748</td>\n",
       "</tr>\n",
       "<tr>\n",
       "  <th>GEO_Manitoba</th>                           <td>    0.1482</td> <td>    0.131</td> <td>    1.134</td> <td> 0.257</td> <td>   -0.108</td> <td>    0.404</td>\n",
       "</tr>\n",
       "<tr>\n",
       "  <th>GEO_British Columbia</th>                   <td>   -0.4667</td> <td>    0.112</td> <td>   -4.162</td> <td> 0.000</td> <td>   -0.687</td> <td>   -0.247</td>\n",
       "</tr>\n",
       "<tr>\n",
       "  <th>GEO_Ontario</th>                            <td>   -0.5535</td> <td>    0.107</td> <td>   -5.194</td> <td> 0.000</td> <td>   -0.762</td> <td>   -0.345</td>\n",
       "</tr>\n",
       "<tr>\n",
       "  <th>GEO_Quebec</th>                             <td>   -0.1354</td> <td>    0.115</td> <td>   -1.178</td> <td> 0.239</td> <td>   -0.361</td> <td>    0.090</td>\n",
       "</tr>\n",
       "<tr>\n",
       "  <th>Employment_type_Paid worker</th>            <td> 7.685e+11</td> <td> 3.45e+12</td> <td>    0.222</td> <td> 0.824</td> <td>   -6e+12</td> <td> 7.54e+12</td>\n",
       "</tr>\n",
       "<tr>\n",
       "  <th>Employment_type_Self-employed</th>          <td> 7.685e+11</td> <td> 3.45e+12</td> <td>    0.222</td> <td> 0.824</td> <td>   -6e+12</td> <td> 7.54e+12</td>\n",
       "</tr>\n",
       "<tr>\n",
       "  <th>Employment_type_Total, employment type</th> <td> 7.685e+11</td> <td> 3.45e+12</td> <td>    0.222</td> <td> 0.824</td> <td>   -6e+12</td> <td> 7.54e+12</td>\n",
       "</tr>\n",
       "<tr>\n",
       "  <th>Sex_Both sexes</th>                         <td>-7.685e+11</td> <td> 3.45e+12</td> <td>   -0.222</td> <td> 0.824</td> <td>-7.54e+12</td> <td>    6e+12</td>\n",
       "</tr>\n",
       "<tr>\n",
       "  <th>Sex_Females</th>                            <td>-7.685e+11</td> <td> 3.45e+12</td> <td>   -0.222</td> <td> 0.824</td> <td>-7.54e+12</td> <td>    6e+12</td>\n",
       "</tr>\n",
       "<tr>\n",
       "  <th>Sex_Males</th>                              <td>-7.685e+11</td> <td> 3.45e+12</td> <td>   -0.222</td> <td> 0.824</td> <td>-7.54e+12</td> <td>    6e+12</td>\n",
       "</tr>\n",
       "</table>\n",
       "<table class=\"simpletable\">\n",
       "<tr>\n",
       "  <th>Omnibus:</th>       <td>309.383</td> <th>  Durbin-Watson:     </th> <td>   1.557</td>\n",
       "</tr>\n",
       "<tr>\n",
       "  <th>Prob(Omnibus):</th> <td> 0.000</td>  <th>  Jarque-Bera (JB):  </th> <td> 181.921</td>\n",
       "</tr>\n",
       "<tr>\n",
       "  <th>Skew:</th>          <td>-0.344</td>  <th>  Prob(JB):          </th> <td>3.14e-40</td>\n",
       "</tr>\n",
       "<tr>\n",
       "  <th>Kurtosis:</th>      <td> 2.320</td>  <th>  Cond. No.          </th> <td>2.65e+14</td>\n",
       "</tr>\n",
       "</table><br/><br/>Notes:<br/>[1] Standard Errors assume that the covariance matrix of the errors is correctly specified.<br/>[2] The smallest eigenvalue is 5.2e-26. This might indicate that there are<br/>strong multicollinearity problems or that the design matrix is singular."
      ],
      "text/plain": [
       "<class 'statsmodels.iolib.summary.Summary'>\n",
       "\"\"\"\n",
       "                            OLS Regression Results                            \n",
       "==============================================================================\n",
       "Dep. Variable:               Response   R-squared:                       0.052\n",
       "Model:                            OLS   Adj. R-squared:                  0.050\n",
       "Method:                 Least Squares   F-statistic:                     21.36\n",
       "Date:                Sun, 30 Apr 2023   Prob (F-statistic):           1.53e-46\n",
       "Time:                        01:06:43   Log-Likelihood:                -9671.8\n",
       "No. Observations:                4662   AIC:                         1.937e+04\n",
       "Df Residuals:                    4649   BIC:                         1.945e+04\n",
       "Df Model:                          12                                         \n",
       "Covariance Type:            nonrobust                                         \n",
       "==========================================================================================================\n",
       "                                             coef    std err          t      P>|t|      [0.025      0.975]\n",
       "----------------------------------------------------------------------------------------------------------\n",
       "GEO_Alberta                               -0.2371      0.118     -2.001      0.045      -0.469      -0.005\n",
       "GEO_Atlantic provinces                    -0.3566      0.110     -3.248      0.001      -0.572      -0.141\n",
       "GEO_Canada                                -0.9350      0.095     -9.816      0.000      -1.122      -0.748\n",
       "GEO_Manitoba                               0.1482      0.131      1.134      0.257      -0.108       0.404\n",
       "GEO_British Columbia                      -0.4667      0.112     -4.162      0.000      -0.687      -0.247\n",
       "GEO_Ontario                               -0.5535      0.107     -5.194      0.000      -0.762      -0.345\n",
       "GEO_Quebec                                -0.1354      0.115     -1.178      0.239      -0.361       0.090\n",
       "Employment_type_Paid worker             7.685e+11   3.45e+12      0.222      0.824      -6e+12    7.54e+12\n",
       "Employment_type_Self-employed           7.685e+11   3.45e+12      0.222      0.824      -6e+12    7.54e+12\n",
       "Employment_type_Total, employment type  7.685e+11   3.45e+12      0.222      0.824      -6e+12    7.54e+12\n",
       "Sex_Both sexes                         -7.685e+11   3.45e+12     -0.222      0.824   -7.54e+12       6e+12\n",
       "Sex_Females                            -7.685e+11   3.45e+12     -0.222      0.824   -7.54e+12       6e+12\n",
       "Sex_Males                              -7.685e+11   3.45e+12     -0.222      0.824   -7.54e+12       6e+12\n",
       "==============================================================================\n",
       "Omnibus:                      309.383   Durbin-Watson:                   1.557\n",
       "Prob(Omnibus):                  0.000   Jarque-Bera (JB):              181.921\n",
       "Skew:                          -0.344   Prob(JB):                     3.14e-40\n",
       "Kurtosis:                       2.320   Cond. No.                     2.65e+14\n",
       "==============================================================================\n",
       "\n",
       "Notes:\n",
       "[1] Standard Errors assume that the covariance matrix of the errors is correctly specified.\n",
       "[2] The smallest eigenvalue is 5.2e-26. This might indicate that there are\n",
       "strong multicollinearity problems or that the design matrix is singular.\n",
       "\"\"\""
      ]
     },
     "execution_count": 27,
     "metadata": {},
     "output_type": "execute_result"
    }
   ],
   "source": [
    "X=ols_df[['GEO_Alberta','GEO_Atlantic provinces','GEO_Canada','GEO_Manitoba','GEO_British Columbia','GEO_Ontario','GEO_Quebec','Employment_type_Paid worker','Employment_type_Self-employed','Employment_type_Total, employment type','Sex_Both sexes','Sex_Females','Sex_Males']]\n",
    "y=ols_df['Response']\n",
    "est=sm.OLS(y,X).fit()\n",
    "est.summary()"
   ]
  },
  {
   "cell_type": "code",
   "execution_count": null,
   "id": "b8ea7e1c",
   "metadata": {},
   "outputs": [],
   "source": []
  },
  {
   "cell_type": "markdown",
   "id": "695bd5f8",
   "metadata": {},
   "source": [
    "# impact of employment type on job satisfaction using random forest"
   ]
  },
  {
   "cell_type": "code",
   "execution_count": 28,
   "id": "016b3400",
   "metadata": {},
   "outputs": [
    {
     "data": {
      "text/html": [
       "<div>\n",
       "<style scoped>\n",
       "    .dataframe tbody tr th:only-of-type {\n",
       "        vertical-align: middle;\n",
       "    }\n",
       "\n",
       "    .dataframe tbody tr th {\n",
       "        vertical-align: top;\n",
       "    }\n",
       "\n",
       "    .dataframe thead th {\n",
       "        text-align: right;\n",
       "    }\n",
       "</style>\n",
       "<table border=\"1\" class=\"dataframe\">\n",
       "  <thead>\n",
       "    <tr style=\"text-align: right;\">\n",
       "      <th></th>\n",
       "      <th>Response</th>\n",
       "      <th>Employment_type</th>\n",
       "    </tr>\n",
       "  </thead>\n",
       "  <tbody>\n",
       "    <tr>\n",
       "      <th>1</th>\n",
       "      <td>Total, satisfaction with work-home balance</td>\n",
       "      <td>Total, employment type</td>\n",
       "    </tr>\n",
       "    <tr>\n",
       "      <th>5</th>\n",
       "      <td>Very satisfied or satisfied</td>\n",
       "      <td>Total, employment type</td>\n",
       "    </tr>\n",
       "    <tr>\n",
       "      <th>9</th>\n",
       "      <td>Very satisfied</td>\n",
       "      <td>Total, employment type</td>\n",
       "    </tr>\n",
       "    <tr>\n",
       "      <th>13</th>\n",
       "      <td>Satisfied</td>\n",
       "      <td>Total, employment type</td>\n",
       "    </tr>\n",
       "    <tr>\n",
       "      <th>17</th>\n",
       "      <td>Neither satisfied nor dissatisfied</td>\n",
       "      <td>Total, employment type</td>\n",
       "    </tr>\n",
       "    <tr>\n",
       "      <th>...</th>\n",
       "      <td>...</td>\n",
       "      <td>...</td>\n",
       "    </tr>\n",
       "    <tr>\n",
       "      <th>41803</th>\n",
       "      <td>Very satisfied or satisfied</td>\n",
       "      <td>Total, employment type</td>\n",
       "    </tr>\n",
       "    <tr>\n",
       "      <th>41871</th>\n",
       "      <td>Total, satisfaction with work-home balance</td>\n",
       "      <td>Self-employed</td>\n",
       "    </tr>\n",
       "    <tr>\n",
       "      <th>41875</th>\n",
       "      <td>Very satisfied or satisfied</td>\n",
       "      <td>Self-employed</td>\n",
       "    </tr>\n",
       "    <tr>\n",
       "      <th>41907</th>\n",
       "      <td>Total, satisfaction with work-home balance</td>\n",
       "      <td>Total, employment type</td>\n",
       "    </tr>\n",
       "    <tr>\n",
       "      <th>41911</th>\n",
       "      <td>Very satisfied or satisfied</td>\n",
       "      <td>Total, employment type</td>\n",
       "    </tr>\n",
       "  </tbody>\n",
       "</table>\n",
       "<p>4662 rows × 2 columns</p>\n",
       "</div>"
      ],
      "text/plain": [
       "                                         Response         Employment_type\n",
       "1      Total, satisfaction with work-home balance  Total, employment type\n",
       "5                     Very satisfied or satisfied  Total, employment type\n",
       "9                                  Very satisfied  Total, employment type\n",
       "13                                      Satisfied  Total, employment type\n",
       "17             Neither satisfied nor dissatisfied  Total, employment type\n",
       "...                                           ...                     ...\n",
       "41803                 Very satisfied or satisfied  Total, employment type\n",
       "41871  Total, satisfaction with work-home balance           Self-employed\n",
       "41875                 Very satisfied or satisfied           Self-employed\n",
       "41907  Total, satisfaction with work-home balance  Total, employment type\n",
       "41911                 Very satisfied or satisfied  Total, employment type\n",
       "\n",
       "[4662 rows x 2 columns]"
      ]
     },
     "execution_count": 28,
     "metadata": {},
     "output_type": "execute_result"
    }
   ],
   "source": [
    "rndfr_dataframe=df2[['Response','Employment_type']]\n",
    "rndfr_dataframe"
   ]
  },
  {
   "cell_type": "code",
   "execution_count": 29,
   "id": "c5497206",
   "metadata": {},
   "outputs": [
    {
     "data": {
      "text/html": [
       "<div>\n",
       "<style scoped>\n",
       "    .dataframe tbody tr th:only-of-type {\n",
       "        vertical-align: middle;\n",
       "    }\n",
       "\n",
       "    .dataframe tbody tr th {\n",
       "        vertical-align: top;\n",
       "    }\n",
       "\n",
       "    .dataframe thead th {\n",
       "        text-align: right;\n",
       "    }\n",
       "</style>\n",
       "<table border=\"1\" class=\"dataframe\">\n",
       "  <thead>\n",
       "    <tr style=\"text-align: right;\">\n",
       "      <th></th>\n",
       "      <th>Paid worker</th>\n",
       "      <th>Self-employed</th>\n",
       "      <th>Total, employment type</th>\n",
       "      <th>Response</th>\n",
       "    </tr>\n",
       "  </thead>\n",
       "  <tbody>\n",
       "    <tr>\n",
       "      <th>1</th>\n",
       "      <td>0</td>\n",
       "      <td>0</td>\n",
       "      <td>1</td>\n",
       "      <td>Total, satisfaction with work-home balance</td>\n",
       "    </tr>\n",
       "    <tr>\n",
       "      <th>5</th>\n",
       "      <td>0</td>\n",
       "      <td>0</td>\n",
       "      <td>1</td>\n",
       "      <td>Very satisfied or satisfied</td>\n",
       "    </tr>\n",
       "  </tbody>\n",
       "</table>\n",
       "</div>"
      ],
      "text/plain": [
       "   Paid worker  Self-employed  Total, employment type  \\\n",
       "1            0              0                       1   \n",
       "5            0              0                       1   \n",
       "\n",
       "                                     Response  \n",
       "1  Total, satisfaction with work-home balance  \n",
       "5                 Very satisfied or satisfied  "
      ]
     },
     "execution_count": 29,
     "metadata": {},
     "output_type": "execute_result"
    }
   ],
   "source": [
    "rndfr_dataframe1=pd.get_dummies(rndfr_dataframe['Employment_type'])\n",
    "rndfr_dataframe1= pd.concat([rndfr_dataframe1, rndfr_dataframe['Response']], axis=1)\n",
    "rndfr_dataframe1.head(2)"
   ]
  },
  {
   "cell_type": "code",
   "execution_count": 30,
   "id": "3ab99234",
   "metadata": {},
   "outputs": [],
   "source": [
    "X=rndfr_dataframe1.drop(['Response'],axis=1)\n",
    "y = rndfr_dataframe1['Response']"
   ]
  },
  {
   "cell_type": "code",
   "execution_count": null,
   "id": "dca374da",
   "metadata": {},
   "outputs": [],
   "source": []
  },
  {
   "cell_type": "code",
   "execution_count": 31,
   "id": "b8de5051",
   "metadata": {},
   "outputs": [
    {
     "name": "stdout",
     "output_type": "stream",
     "text": [
      "0.20334620334620335\n",
      "[[  0   0   0   0 189   0   0 156   0]\n",
      " [  0   0   0   0 205   0   0 167   0]\n",
      " [  0   0   0   0 305   0   0 229   0]\n",
      " [  0   0   0   0 507   0   0 321   0]\n",
      " [  0   0   0   0 598   0   0 353   0]\n",
      " [  0   0   0   0  38   0   0  34   0]\n",
      " [  0   0   0   0 356   0   0 248   0]\n",
      " [  0   0   0   0 568   0   0 350   0]\n",
      " [  0   0   0   0  22   0   0  16   0]]\n",
      "                                            precision    recall  f1-score   support\n",
      "\n",
      "                              Dissatisfied       0.00      0.00      0.00       345\n",
      "         Dissatisfied or very dissatisfied       0.00      0.00      0.00       372\n",
      "        Neither satisfied nor dissatisfied       0.00      0.00      0.00       534\n",
      "                                 Satisfied       0.00      0.00      0.00       828\n",
      "Total, satisfaction with work-home balance       0.21      0.63      0.32       951\n",
      "                         Very dissatisfied       0.00      0.00      0.00        72\n",
      "                            Very satisfied       0.00      0.00      0.00       604\n",
      "               Very satisfied or satisfied       0.19      0.38      0.25       918\n",
      "                                   unknown       0.00      0.00      0.00        38\n",
      "\n",
      "                                  accuracy                           0.20      4662\n",
      "                                 macro avg       0.04      0.11      0.06      4662\n",
      "                              weighted avg       0.08      0.20      0.11      4662\n",
      "\n"
     ]
    }
   ],
   "source": [
    "from sklearn.ensemble import RandomForestClassifier\n",
    "from sklearn.metrics import confusion_matrix\n",
    "\n",
    "from sklearn import metrics\n",
    "from sklearn import tree\n",
    "\n",
    "from sklearn.metrics import classification_report\n",
    "\"\"\"\n",
    "criterion=['gini', 'entropy', 'log_loss']\n",
    "\n",
    "entropy a way to measure impurity\n",
    "a criterion to minimize the probability of misclassification\n",
    "hey take small values if most observations fall into the same class in a node. \n",
    "Contrastly, they are maximized if there’s an equal number of observations across all classes in a node. \n",
    "A node with mixed classes is called impure, and the Gini index is also known as Gini impurity.\"\"\"\n",
    "\n",
    "rndfr_clf=RandomForestClassifier(n_estimators = 100, criterion = 'gini', random_state = 29)\n",
    "\n",
    "rndfr_clf.fit(X ,y )\n",
    "rndfr_clf_pred=rndfr_clf.predict(X)\n",
    "\n",
    "print(metrics.accuracy_score(y , rndfr_clf_pred))\n",
    "\n",
    "print(confusion_matrix(y , rndfr_clf_pred))\n",
    "print(classification_report(y , rndfr_clf_pred))"
   ]
  },
  {
   "cell_type": "code",
   "execution_count": 32,
   "id": "9db3c988",
   "metadata": {},
   "outputs": [
    {
     "data": {
      "text/html": [
       "<div>\n",
       "<style scoped>\n",
       "    .dataframe tbody tr th:only-of-type {\n",
       "        vertical-align: middle;\n",
       "    }\n",
       "\n",
       "    .dataframe tbody tr th {\n",
       "        vertical-align: top;\n",
       "    }\n",
       "\n",
       "    .dataframe thead th {\n",
       "        text-align: right;\n",
       "    }\n",
       "</style>\n",
       "<table border=\"1\" class=\"dataframe\">\n",
       "  <thead>\n",
       "    <tr style=\"text-align: right;\">\n",
       "      <th></th>\n",
       "      <th>features</th>\n",
       "      <th>importance</th>\n",
       "    </tr>\n",
       "  </thead>\n",
       "  <tbody>\n",
       "    <tr>\n",
       "      <th>0</th>\n",
       "      <td>Paid worker</td>\n",
       "      <td>0.192664</td>\n",
       "    </tr>\n",
       "    <tr>\n",
       "      <th>1</th>\n",
       "      <td>Self-employed</td>\n",
       "      <td>0.569903</td>\n",
       "    </tr>\n",
       "    <tr>\n",
       "      <th>2</th>\n",
       "      <td>Total, employment type</td>\n",
       "      <td>0.237433</td>\n",
       "    </tr>\n",
       "  </tbody>\n",
       "</table>\n",
       "</div>"
      ],
      "text/plain": [
       "                 features  importance\n",
       "0             Paid worker    0.192664\n",
       "1           Self-employed    0.569903\n",
       "2  Total, employment type    0.237433"
      ]
     },
     "execution_count": 32,
     "metadata": {},
     "output_type": "execute_result"
    }
   ],
   "source": [
    "importance_df = pd.DataFrame({'features':X.columns,'importance':rndfr_clf.feature_importances_})\n",
    "\n",
    "importance_df"
   ]
  },
  {
   "cell_type": "code",
   "execution_count": 33,
   "id": "657e9c79",
   "metadata": {},
   "outputs": [
    {
     "data": {
      "image/png": "[encoded data removed]",
      "text/plain": [
       "<Figure size 1080x720 with 1 Axes>"
      ]
     },
     "metadata": {},
     "output_type": "display_data"
    }
   ],
   "source": [
    "from sklearn.tree import plot_tree\n",
    "plt.figure(figsize=(15,10))\n",
    "plot_tree(rndfr_clf.estimators_[5], feature_names = X.columns,class_names=['Dissatisfied','Dissatisfied or very dissatisfied ','Neither satisfied nor dissatisfied','Satisfied','Total, satisfaction with work-home balance','Very satisfied'],filled=True);"
   ]
  },
  {
   "cell_type": "code",
   "execution_count": null,
   "id": "70d90fc5",
   "metadata": {},
   "outputs": [],
   "source": []
  },
  {
   "cell_type": "code",
   "execution_count": null,
   "id": "1a5816af",
   "metadata": {},
   "outputs": [],
   "source": []
  },
  {
   "cell_type": "markdown",
   "id": "62258a59",
   "metadata": {},
   "source": [
    "# impact of sex on job satisfaction"
   ]
  },
  {
   "cell_type": "code",
   "execution_count": 34,
   "id": "bf4b4def",
   "metadata": {},
   "outputs": [
    {
     "data": {
      "text/html": [
       "<div>\n",
       "<style scoped>\n",
       "    .dataframe tbody tr th:only-of-type {\n",
       "        vertical-align: middle;\n",
       "    }\n",
       "\n",
       "    .dataframe tbody tr th {\n",
       "        vertical-align: top;\n",
       "    }\n",
       "\n",
       "    .dataframe thead th {\n",
       "        text-align: right;\n",
       "    }\n",
       "</style>\n",
       "<table border=\"1\" class=\"dataframe\">\n",
       "  <thead>\n",
       "    <tr style=\"text-align: right;\">\n",
       "      <th></th>\n",
       "      <th>Sex</th>\n",
       "      <th>Response</th>\n",
       "    </tr>\n",
       "  </thead>\n",
       "  <tbody>\n",
       "    <tr>\n",
       "      <th>1</th>\n",
       "      <td>Both sexes</td>\n",
       "      <td>Total, satisfaction with work-home balance</td>\n",
       "    </tr>\n",
       "    <tr>\n",
       "      <th>5</th>\n",
       "      <td>Both sexes</td>\n",
       "      <td>Very satisfied or satisfied</td>\n",
       "    </tr>\n",
       "    <tr>\n",
       "      <th>9</th>\n",
       "      <td>Both sexes</td>\n",
       "      <td>Very satisfied</td>\n",
       "    </tr>\n",
       "    <tr>\n",
       "      <th>13</th>\n",
       "      <td>Both sexes</td>\n",
       "      <td>Satisfied</td>\n",
       "    </tr>\n",
       "    <tr>\n",
       "      <th>17</th>\n",
       "      <td>Both sexes</td>\n",
       "      <td>Neither satisfied nor dissatisfied</td>\n",
       "    </tr>\n",
       "    <tr>\n",
       "      <th>...</th>\n",
       "      <td>...</td>\n",
       "      <td>...</td>\n",
       "    </tr>\n",
       "    <tr>\n",
       "      <th>41803</th>\n",
       "      <td>Both sexes</td>\n",
       "      <td>Very satisfied or satisfied</td>\n",
       "    </tr>\n",
       "    <tr>\n",
       "      <th>41871</th>\n",
       "      <td>Both sexes</td>\n",
       "      <td>Total, satisfaction with work-home balance</td>\n",
       "    </tr>\n",
       "    <tr>\n",
       "      <th>41875</th>\n",
       "      <td>Both sexes</td>\n",
       "      <td>Very satisfied or satisfied</td>\n",
       "    </tr>\n",
       "    <tr>\n",
       "      <th>41907</th>\n",
       "      <td>Males</td>\n",
       "      <td>Total, satisfaction with work-home balance</td>\n",
       "    </tr>\n",
       "    <tr>\n",
       "      <th>41911</th>\n",
       "      <td>Males</td>\n",
       "      <td>Very satisfied or satisfied</td>\n",
       "    </tr>\n",
       "  </tbody>\n",
       "</table>\n",
       "<p>4662 rows × 2 columns</p>\n",
       "</div>"
      ],
      "text/plain": [
       "              Sex                                    Response\n",
       "1      Both sexes  Total, satisfaction with work-home balance\n",
       "5      Both sexes                 Very satisfied or satisfied\n",
       "9      Both sexes                              Very satisfied\n",
       "13     Both sexes                                   Satisfied\n",
       "17     Both sexes          Neither satisfied nor dissatisfied\n",
       "...           ...                                         ...\n",
       "41803  Both sexes                 Very satisfied or satisfied\n",
       "41871  Both sexes  Total, satisfaction with work-home balance\n",
       "41875  Both sexes                 Very satisfied or satisfied\n",
       "41907       Males  Total, satisfaction with work-home balance\n",
       "41911       Males                 Very satisfied or satisfied\n",
       "\n",
       "[4662 rows x 2 columns]"
      ]
     },
     "execution_count": 34,
     "metadata": {},
     "output_type": "execute_result"
    }
   ],
   "source": [
    "sex_df=df2[['Sex','Response']]\n",
    "sex_df"
   ]
  },
  {
   "cell_type": "code",
   "execution_count": 35,
   "id": "7f20d287",
   "metadata": {},
   "outputs": [
    {
     "data": {
      "text/html": [
       "<div>\n",
       "<style scoped>\n",
       "    .dataframe tbody tr th:only-of-type {\n",
       "        vertical-align: middle;\n",
       "    }\n",
       "\n",
       "    .dataframe tbody tr th {\n",
       "        vertical-align: top;\n",
       "    }\n",
       "\n",
       "    .dataframe thead th {\n",
       "        text-align: right;\n",
       "    }\n",
       "</style>\n",
       "<table border=\"1\" class=\"dataframe\">\n",
       "  <thead>\n",
       "    <tr style=\"text-align: right;\">\n",
       "      <th></th>\n",
       "      <th>Both sexes</th>\n",
       "      <th>Females</th>\n",
       "      <th>Males</th>\n",
       "      <th>Response</th>\n",
       "    </tr>\n",
       "  </thead>\n",
       "  <tbody>\n",
       "    <tr>\n",
       "      <th>1</th>\n",
       "      <td>1</td>\n",
       "      <td>0</td>\n",
       "      <td>0</td>\n",
       "      <td>Total, satisfaction with work-home balance</td>\n",
       "    </tr>\n",
       "    <tr>\n",
       "      <th>5</th>\n",
       "      <td>1</td>\n",
       "      <td>0</td>\n",
       "      <td>0</td>\n",
       "      <td>Very satisfied or satisfied</td>\n",
       "    </tr>\n",
       "  </tbody>\n",
       "</table>\n",
       "</div>"
      ],
      "text/plain": [
       "   Both sexes  Females  Males                                    Response\n",
       "1           1        0      0  Total, satisfaction with work-home balance\n",
       "5           1        0      0                 Very satisfied or satisfied"
      ]
     },
     "execution_count": 35,
     "metadata": {},
     "output_type": "execute_result"
    }
   ],
   "source": [
    "sex_df1=pd.get_dummies(sex_df['Sex'])\n",
    "sex_df1= pd.concat([sex_df1, sex_df['Response']], axis=1)\n",
    "sex_df1.head(2)"
   ]
  },
  {
   "cell_type": "code",
   "execution_count": 36,
   "id": "a9e7f6d8",
   "metadata": {},
   "outputs": [],
   "source": [
    "X=sex_df1.drop(['Response'],axis=1)\n",
    "y = sex_df1['Response']"
   ]
  },
  {
   "cell_type": "code",
   "execution_count": 37,
   "id": "d4866745",
   "metadata": {},
   "outputs": [],
   "source": [
    "from sklearn.metrics import classification_report"
   ]
  },
  {
   "cell_type": "code",
   "execution_count": 38,
   "id": "2c1eb090",
   "metadata": {},
   "outputs": [
    {
     "name": "stdout",
     "output_type": "stream",
     "text": [
      "[[  0   0   0   0 345   0   0   0   0]\n",
      " [  0   0   0   0 372   0   0   0   0]\n",
      " [  0   0   0   0 534   0   0   0   0]\n",
      " [  0   0   0   0 828   0   0   0   0]\n",
      " [  0   0   0   0 951   0   0   0   0]\n",
      " [  0   0   0   0  72   0   0   0   0]\n",
      " [  0   0   0   0 604   0   0   0   0]\n",
      " [  0   0   0   0 918   0   0   0   0]\n",
      " [  0   0   0   0  38   0   0   0   0]]\n",
      "Accuracy: 0.201 (0.008)\n",
      "                                            precision    recall  f1-score   support\n",
      "\n",
      "                              Dissatisfied       0.00      0.00      0.00       345\n",
      "         Dissatisfied or very dissatisfied       0.00      0.00      0.00       372\n",
      "        Neither satisfied nor dissatisfied       0.00      0.00      0.00       534\n",
      "                                 Satisfied       0.00      0.00      0.00       828\n",
      "Total, satisfaction with work-home balance       0.20      1.00      0.34       951\n",
      "                         Very dissatisfied       0.00      0.00      0.00        72\n",
      "                            Very satisfied       0.00      0.00      0.00       604\n",
      "               Very satisfied or satisfied       0.00      0.00      0.00       918\n",
      "                                   unknown       0.00      0.00      0.00        38\n",
      "\n",
      "                                  accuracy                           0.20      4662\n",
      "                                 macro avg       0.02      0.11      0.04      4662\n",
      "                              weighted avg       0.04      0.20      0.07      4662\n",
      "\n"
     ]
    }
   ],
   "source": [
    "from sklearn.ensemble import GradientBoostingClassifier\n",
    "from sklearn.model_selection import KFold\n",
    "from sklearn.model_selection import RepeatedStratifiedKFold\n",
    "from sklearn.model_selection import cross_val_score\n",
    " \n",
    "#kf = KFold(n_splits=5,random_state=42,shuffle=True)\n",
    "\n",
    "cv = RepeatedStratifiedKFold(n_splits=10, n_repeats=3, random_state=1)\n",
    "\n",
    "gradient_booster = GradientBoostingClassifier(learning_rate=0.1)\n",
    "gradient_booster.fit(X,y)\n",
    "\n",
    "\n",
    "print(confusion_matrix(y , gradient_booster.predict(X)))\n",
    "\n",
    "\n",
    "n_scores = cross_val_score(gradient_booster, X, y, scoring='accuracy', cv=cv, n_jobs=-1, error_score='raise')\n",
    "print('Accuracy: %.3f (%.3f)' % (np.mean(n_scores), np.std(n_scores)))\n",
    "\n",
    "\n",
    "print(classification_report(y,gradient_booster.predict(X)))"
   ]
  },
  {
   "cell_type": "code",
   "execution_count": 39,
   "id": "7cfc1197",
   "metadata": {},
   "outputs": [
    {
     "data": {
      "text/html": [
       "<div>\n",
       "<style scoped>\n",
       "    .dataframe tbody tr th:only-of-type {\n",
       "        vertical-align: middle;\n",
       "    }\n",
       "\n",
       "    .dataframe tbody tr th {\n",
       "        vertical-align: top;\n",
       "    }\n",
       "\n",
       "    .dataframe thead th {\n",
       "        text-align: right;\n",
       "    }\n",
       "</style>\n",
       "<table border=\"1\" class=\"dataframe\">\n",
       "  <thead>\n",
       "    <tr style=\"text-align: right;\">\n",
       "      <th></th>\n",
       "      <th>features</th>\n",
       "      <th>importance</th>\n",
       "    </tr>\n",
       "  </thead>\n",
       "  <tbody>\n",
       "    <tr>\n",
       "      <th>0</th>\n",
       "      <td>Both sexes</td>\n",
       "      <td>0.713357</td>\n",
       "    </tr>\n",
       "    <tr>\n",
       "      <th>1</th>\n",
       "      <td>Females</td>\n",
       "      <td>0.051419</td>\n",
       "    </tr>\n",
       "    <tr>\n",
       "      <th>2</th>\n",
       "      <td>Males</td>\n",
       "      <td>0.235224</td>\n",
       "    </tr>\n",
       "  </tbody>\n",
       "</table>\n",
       "</div>"
      ],
      "text/plain": [
       "     features  importance\n",
       "0  Both sexes    0.713357\n",
       "1     Females    0.051419\n",
       "2       Males    0.235224"
      ]
     },
     "execution_count": 39,
     "metadata": {},
     "output_type": "execute_result"
    }
   ],
   "source": [
    "importance_df = pd.DataFrame({'features':X.columns,'importance':gradient_booster.feature_importances_})\n",
    "\n",
    "importance_df"
   ]
  },
  {
   "cell_type": "code",
   "execution_count": null,
   "id": "cd211f18",
   "metadata": {},
   "outputs": [],
   "source": []
  },
  {
   "cell_type": "markdown",
   "id": "1f0a3eb7",
   "metadata": {},
   "source": [
    "# using Label encoding on new dataframe having GEO, Sex, ET, Age  as features to predict a person is satisfy or not using different classifier"
   ]
  },
  {
   "cell_type": "code",
   "execution_count": 58,
   "id": "03e2f86e",
   "metadata": {},
   "outputs": [],
   "source": [
    "df5=df2.copy()"
   ]
  },
  {
   "cell_type": "code",
   "execution_count": 59,
   "id": "4a39a9aa",
   "metadata": {},
   "outputs": [
    {
     "data": {
      "text/html": [
       "<div>\n",
       "<style scoped>\n",
       "    .dataframe tbody tr th:only-of-type {\n",
       "        vertical-align: middle;\n",
       "    }\n",
       "\n",
       "    .dataframe tbody tr th {\n",
       "        vertical-align: top;\n",
       "    }\n",
       "\n",
       "    .dataframe thead th {\n",
       "        text-align: right;\n",
       "    }\n",
       "</style>\n",
       "<table border=\"1\" class=\"dataframe\">\n",
       "  <thead>\n",
       "    <tr style=\"text-align: right;\">\n",
       "      <th></th>\n",
       "      <th>GEO</th>\n",
       "      <th>Age</th>\n",
       "      <th>Sex</th>\n",
       "      <th>Employment_type</th>\n",
       "      <th>Response</th>\n",
       "    </tr>\n",
       "  </thead>\n",
       "  <tbody>\n",
       "    <tr>\n",
       "      <th>1</th>\n",
       "      <td>Canada</td>\n",
       "      <td>Total, 15 years and over</td>\n",
       "      <td>Both sexes</td>\n",
       "      <td>Total, employment type</td>\n",
       "      <td>Total, satisfaction with work-home balance</td>\n",
       "    </tr>\n",
       "    <tr>\n",
       "      <th>5</th>\n",
       "      <td>Canada</td>\n",
       "      <td>Total, 15 years and over</td>\n",
       "      <td>Both sexes</td>\n",
       "      <td>Total, employment type</td>\n",
       "      <td>Very satisfied or satisfied</td>\n",
       "    </tr>\n",
       "  </tbody>\n",
       "</table>\n",
       "</div>"
      ],
      "text/plain": [
       "      GEO                       Age         Sex         Employment_type  \\\n",
       "1  Canada  Total, 15 years and over  Both sexes  Total, employment type   \n",
       "5  Canada  Total, 15 years and over  Both sexes  Total, employment type   \n",
       "\n",
       "                                     Response  \n",
       "1  Total, satisfaction with work-home balance  \n",
       "5                 Very satisfied or satisfied  "
      ]
     },
     "execution_count": 59,
     "metadata": {},
     "output_type": "execute_result"
    }
   ],
   "source": [
    "df5= df5.drop(['Estimates','VALUE'],axis=1)\n",
    "df5.head(2)"
   ]
  },
  {
   "cell_type": "code",
   "execution_count": 57,
   "id": "6c0bd0db",
   "metadata": {},
   "outputs": [],
   "source": [
    "df5.Response[(df5.Response == 'Very satisfied') | (df5.Response == 'Satisfied')|(df5.Response == 'Very satisfied or satisfied')|(df5.Response =='Total, satisfaction with work-home balance')] = 1\n",
    "df5.Response[(df5.Response == 'Dissatisfied')|(df5.Response == 'Neither satisfied nor dissatisfied')|(df5.Response == 'Very dissatisfied')|(df5.Response == 'Dissatisfied or very dissatisfied')|(df5.Response == 'unknown')]= 0\n",
    "df5.head(9)"
   ]
  },
  {
   "cell_type": "code",
   "execution_count": null,
   "id": "451e4d85",
   "metadata": {},
   "outputs": [],
   "source": []
  },
  {
   "cell_type": "code",
   "execution_count": 61,
   "id": "9ccbbf89",
   "metadata": {},
   "outputs": [
    {
     "data": {
      "text/html": [
       "<div>\n",
       "<style scoped>\n",
       "    .dataframe tbody tr th:only-of-type {\n",
       "        vertical-align: middle;\n",
       "    }\n",
       "\n",
       "    .dataframe tbody tr th {\n",
       "        vertical-align: top;\n",
       "    }\n",
       "\n",
       "    .dataframe thead th {\n",
       "        text-align: right;\n",
       "    }\n",
       "</style>\n",
       "<table border=\"1\" class=\"dataframe\">\n",
       "  <thead>\n",
       "    <tr style=\"text-align: right;\">\n",
       "      <th></th>\n",
       "      <th>GEO</th>\n",
       "      <th>Employment_type</th>\n",
       "      <th>Age</th>\n",
       "      <th>Sex</th>\n",
       "    </tr>\n",
       "  </thead>\n",
       "  <tbody>\n",
       "    <tr>\n",
       "      <th>1</th>\n",
       "      <td>Canada</td>\n",
       "      <td>Total, employment type</td>\n",
       "      <td>Total, 15 years and over</td>\n",
       "      <td>Both sexes</td>\n",
       "    </tr>\n",
       "    <tr>\n",
       "      <th>5</th>\n",
       "      <td>Canada</td>\n",
       "      <td>Total, employment type</td>\n",
       "      <td>Total, 15 years and over</td>\n",
       "      <td>Both sexes</td>\n",
       "    </tr>\n",
       "  </tbody>\n",
       "</table>\n",
       "</div>"
      ],
      "text/plain": [
       "      GEO         Employment_type                       Age         Sex\n",
       "1  Canada  Total, employment type  Total, 15 years and over  Both sexes\n",
       "5  Canada  Total, employment type  Total, 15 years and over  Both sexes"
      ]
     },
     "execution_count": 61,
     "metadata": {},
     "output_type": "execute_result"
    }
   ],
   "source": [
    "inputs = df5[['GEO','Employment_type','Age','Sex']] \n",
    "inputs.head(2)"
   ]
  },
  {
   "cell_type": "code",
   "execution_count": 62,
   "id": "a0212d16",
   "metadata": {},
   "outputs": [
    {
     "data": {
      "text/plain": [
       "1    1\n",
       "5    1\n",
       "Name: Response, dtype: object"
      ]
     },
     "execution_count": 62,
     "metadata": {},
     "output_type": "execute_result"
    }
   ],
   "source": [
    "target = df5['Response']\n",
    "target.head(2)"
   ]
  },
  {
   "cell_type": "code",
   "execution_count": 63,
   "id": "207e8a04",
   "metadata": {},
   "outputs": [
    {
     "data": {
      "text/plain": [
       "1    1\n",
       "5    1\n",
       "Name: Response, dtype: int32"
      ]
     },
     "execution_count": 63,
     "metadata": {},
     "output_type": "execute_result"
    }
   ],
   "source": [
    "target=target.astype('int')\n",
    "target.head(2)"
   ]
  },
  {
   "cell_type": "code",
   "execution_count": 64,
   "id": "47a7e7fa",
   "metadata": {},
   "outputs": [],
   "source": [
    "from sklearn.preprocessing import LabelEncoder\n",
    "le_GEO = LabelEncoder()\n",
    "le_Sex = LabelEncoder()\n",
    "le_Employment_type = LabelEncoder()\n",
    "le_Age = LabelEncoder()"
   ]
  },
  {
   "cell_type": "code",
   "execution_count": 65,
   "id": "98164c79",
   "metadata": {},
   "outputs": [],
   "source": [
    "inputs['GEO_n'] = le_GEO.fit_transform(inputs['GEO'])\n",
    "inputs['Sex_n'] = le_GEO.fit_transform(inputs['Sex'])\n",
    "inputs['Employment_type_n'] = le_GEO.fit_transform(inputs['Employment_type'])\n",
    "inputs['Age_n'] = le_GEO.fit_transform(inputs['Age'])"
   ]
  },
  {
   "cell_type": "code",
   "execution_count": 66,
   "id": "cc6c1b6f",
   "metadata": {},
   "outputs": [
    {
     "data": {
      "text/html": [
       "<div>\n",
       "<style scoped>\n",
       "    .dataframe tbody tr th:only-of-type {\n",
       "        vertical-align: middle;\n",
       "    }\n",
       "\n",
       "    .dataframe tbody tr th {\n",
       "        vertical-align: top;\n",
       "    }\n",
       "\n",
       "    .dataframe thead th {\n",
       "        text-align: right;\n",
       "    }\n",
       "</style>\n",
       "<table border=\"1\" class=\"dataframe\">\n",
       "  <thead>\n",
       "    <tr style=\"text-align: right;\">\n",
       "      <th></th>\n",
       "      <th>GEO</th>\n",
       "      <th>Employment_type</th>\n",
       "      <th>Age</th>\n",
       "      <th>Sex</th>\n",
       "      <th>GEO_n</th>\n",
       "      <th>Sex_n</th>\n",
       "      <th>Employment_type_n</th>\n",
       "      <th>Age_n</th>\n",
       "    </tr>\n",
       "  </thead>\n",
       "  <tbody>\n",
       "    <tr>\n",
       "      <th>1</th>\n",
       "      <td>Canada</td>\n",
       "      <td>Total, employment type</td>\n",
       "      <td>Total, 15 years and over</td>\n",
       "      <td>Both sexes</td>\n",
       "      <td>3</td>\n",
       "      <td>0</td>\n",
       "      <td>2</td>\n",
       "      <td>9</td>\n",
       "    </tr>\n",
       "    <tr>\n",
       "      <th>5</th>\n",
       "      <td>Canada</td>\n",
       "      <td>Total, employment type</td>\n",
       "      <td>Total, 15 years and over</td>\n",
       "      <td>Both sexes</td>\n",
       "      <td>3</td>\n",
       "      <td>0</td>\n",
       "      <td>2</td>\n",
       "      <td>9</td>\n",
       "    </tr>\n",
       "  </tbody>\n",
       "</table>\n",
       "</div>"
      ],
      "text/plain": [
       "      GEO         Employment_type                       Age         Sex  \\\n",
       "1  Canada  Total, employment type  Total, 15 years and over  Both sexes   \n",
       "5  Canada  Total, employment type  Total, 15 years and over  Both sexes   \n",
       "\n",
       "   GEO_n  Sex_n  Employment_type_n  Age_n  \n",
       "1      3      0                  2      9  \n",
       "5      3      0                  2      9  "
      ]
     },
     "execution_count": 66,
     "metadata": {},
     "output_type": "execute_result"
    }
   ],
   "source": [
    "inputs.head(2)"
   ]
  },
  {
   "cell_type": "code",
   "execution_count": 67,
   "id": "0ce33ac0",
   "metadata": {},
   "outputs": [
    {
     "data": {
      "text/html": [
       "<div>\n",
       "<style scoped>\n",
       "    .dataframe tbody tr th:only-of-type {\n",
       "        vertical-align: middle;\n",
       "    }\n",
       "\n",
       "    .dataframe tbody tr th {\n",
       "        vertical-align: top;\n",
       "    }\n",
       "\n",
       "    .dataframe thead th {\n",
       "        text-align: right;\n",
       "    }\n",
       "</style>\n",
       "<table border=\"1\" class=\"dataframe\">\n",
       "  <thead>\n",
       "    <tr style=\"text-align: right;\">\n",
       "      <th></th>\n",
       "      <th>GEO_n</th>\n",
       "      <th>Sex_n</th>\n",
       "      <th>Employment_type_n</th>\n",
       "      <th>Age_n</th>\n",
       "    </tr>\n",
       "  </thead>\n",
       "  <tbody>\n",
       "    <tr>\n",
       "      <th>41875</th>\n",
       "      <td>2</td>\n",
       "      <td>0</td>\n",
       "      <td>1</td>\n",
       "      <td>8</td>\n",
       "    </tr>\n",
       "    <tr>\n",
       "      <th>41907</th>\n",
       "      <td>2</td>\n",
       "      <td>2</td>\n",
       "      <td>2</td>\n",
       "      <td>8</td>\n",
       "    </tr>\n",
       "    <tr>\n",
       "      <th>41911</th>\n",
       "      <td>2</td>\n",
       "      <td>2</td>\n",
       "      <td>2</td>\n",
       "      <td>8</td>\n",
       "    </tr>\n",
       "  </tbody>\n",
       "</table>\n",
       "</div>"
      ],
      "text/plain": [
       "       GEO_n  Sex_n  Employment_type_n  Age_n\n",
       "41875      2      0                  1      8\n",
       "41907      2      2                  2      8\n",
       "41911      2      2                  2      8"
      ]
     },
     "execution_count": 67,
     "metadata": {},
     "output_type": "execute_result"
    }
   ],
   "source": [
    "inputs_n = inputs.drop(['GEO','Sex','Age','Employment_type'],axis='columns')\n",
    "inputs_n.tail(3)"
   ]
  },
  {
   "cell_type": "code",
   "execution_count": 68,
   "id": "9f306ffd",
   "metadata": {},
   "outputs": [],
   "source": [
    "from sklearn import tree\n",
    "model = tree.DecisionTreeClassifier()"
   ]
  },
  {
   "cell_type": "code",
   "execution_count": 69,
   "id": "c4e917c4",
   "metadata": {},
   "outputs": [
    {
     "data": {
      "text/html": [
       "<style>#sk-container-id-2 {color: black;background-color: white;}#sk-container-id-2 pre{padding: 0;}#sk-container-id-2 div.sk-toggleable {background-color: white;}#sk-container-id-2 label.sk-toggleable__label {cursor: pointer;display: block;width: 100%;margin-bottom: 0;padding: 0.3em;box-sizing: border-box;text-align: center;}#sk-container-id-2 label.sk-toggleable__label-arrow:before {content: \"▸\";float: left;margin-right: 0.25em;color: #696969;}#sk-container-id-2 label.sk-toggleable__label-arrow:hover:before {color: black;}#sk-container-id-2 div.sk-estimator:hover label.sk-toggleable__label-arrow:before {color: black;}#sk-container-id-2 div.sk-toggleable__content {max-height: 0;max-width: 0;overflow: hidden;text-align: left;background-color: #f0f8ff;}#sk-container-id-2 div.sk-toggleable__content pre {margin: 0.2em;color: black;border-radius: 0.25em;background-color: #f0f8ff;}#sk-container-id-2 input.sk-toggleable__control:checked~div.sk-toggleable__content {max-height: 200px;max-width: 100%;overflow: auto;}#sk-container-id-2 input.sk-toggleable__control:checked~label.sk-toggleable__label-arrow:before {content: \"▾\";}#sk-container-id-2 div.sk-estimator input.sk-toggleable__control:checked~label.sk-toggleable__label {background-color: #d4ebff;}#sk-container-id-2 div.sk-label input.sk-toggleable__control:checked~label.sk-toggleable__label {background-color: #d4ebff;}#sk-container-id-2 input.sk-hidden--visually {border: 0;clip: rect(1px 1px 1px 1px);clip: rect(1px, 1px, 1px, 1px);height: 1px;margin: -1px;overflow: hidden;padding: 0;position: absolute;width: 1px;}#sk-container-id-2 div.sk-estimator {font-family: monospace;background-color: #f0f8ff;border: 1px dotted black;border-radius: 0.25em;box-sizing: border-box;margin-bottom: 0.5em;}#sk-container-id-2 div.sk-estimator:hover {background-color: #d4ebff;}#sk-container-id-2 div.sk-parallel-item::after {content: \"\";width: 100%;border-bottom: 1px solid gray;flex-grow: 1;}#sk-container-id-2 div.sk-label:hover label.sk-toggleable__label {background-color: #d4ebff;}#sk-container-id-2 div.sk-serial::before {content: \"\";position: absolute;border-left: 1px solid gray;box-sizing: border-box;top: 0;bottom: 0;left: 50%;z-index: 0;}#sk-container-id-2 div.sk-serial {display: flex;flex-direction: column;align-items: center;background-color: white;padding-right: 0.2em;padding-left: 0.2em;position: relative;}#sk-container-id-2 div.sk-item {position: relative;z-index: 1;}#sk-container-id-2 div.sk-parallel {display: flex;align-items: stretch;justify-content: center;background-color: white;position: relative;}#sk-container-id-2 div.sk-item::before, #sk-container-id-2 div.sk-parallel-item::before {content: \"\";position: absolute;border-left: 1px solid gray;box-sizing: border-box;top: 0;bottom: 0;left: 50%;z-index: -1;}#sk-container-id-2 div.sk-parallel-item {display: flex;flex-direction: column;z-index: 1;position: relative;background-color: white;}#sk-container-id-2 div.sk-parallel-item:first-child::after {align-self: flex-end;width: 50%;}#sk-container-id-2 div.sk-parallel-item:last-child::after {align-self: flex-start;width: 50%;}#sk-container-id-2 div.sk-parallel-item:only-child::after {width: 0;}#sk-container-id-2 div.sk-dashed-wrapped {border: 1px dashed gray;margin: 0 0.4em 0.5em 0.4em;box-sizing: border-box;padding-bottom: 0.4em;background-color: white;}#sk-container-id-2 div.sk-label label {font-family: monospace;font-weight: bold;display: inline-block;line-height: 1.2em;}#sk-container-id-2 div.sk-label-container {text-align: center;}#sk-container-id-2 div.sk-container {/* jupyter's `normalize.less` sets `[hidden] { display: none; }` but bootstrap.min.css set `[hidden] { display: none !important; }` so we also need the `!important` here to be able to override the default hidden behavior on the sphinx rendered scikit-learn.org. See: https://github.com/scikit-learn/scikit-learn/issues/21755 */display: inline-block !important;position: relative;}#sk-container-id-2 div.sk-text-repr-fallback {display: none;}</style><div id=\"sk-container-id-2\" class=\"sk-top-container\"><div class=\"sk-text-repr-fallback\"><pre>DecisionTreeClassifier()</pre><b>In a Jupyter environment, please rerun this cell to show the HTML representation or trust the notebook. <br />On GitHub, the HTML representation is unable to render, please try loading this page with nbviewer.org.</b></div><div class=\"sk-container\" hidden><div class=\"sk-item\"><div class=\"sk-estimator sk-toggleable\"><input class=\"sk-toggleable__control sk-hidden--visually\" id=\"sk-estimator-id-2\" type=\"checkbox\" checked><label for=\"sk-estimator-id-2\" class=\"sk-toggleable__label sk-toggleable__label-arrow\">DecisionTreeClassifier</label><div class=\"sk-toggleable__content\"><pre>DecisionTreeClassifier()</pre></div></div></div></div></div>"
      ],
      "text/plain": [
       "DecisionTreeClassifier()"
      ]
     },
     "execution_count": 69,
     "metadata": {},
     "output_type": "execute_result"
    }
   ],
   "source": [
    "model.fit(inputs_n,target)"
   ]
  },
  {
   "cell_type": "code",
   "execution_count": 70,
   "id": "e307127b",
   "metadata": {},
   "outputs": [
    {
     "data": {
      "text/plain": [
       "0.7140712140712141"
      ]
     },
     "execution_count": 70,
     "metadata": {},
     "output_type": "execute_result"
    }
   ],
   "source": [
    "model.score(inputs_n,target)"
   ]
  },
  {
   "cell_type": "code",
   "execution_count": 71,
   "id": "f53b0220",
   "metadata": {},
   "outputs": [
    {
     "data": {
      "text/plain": [
       "array([1])"
      ]
     },
     "execution_count": 71,
     "metadata": {},
     "output_type": "execute_result"
    }
   ],
   "source": [
    "model.predict([[2,0,1,8]])"
   ]
  },
  {
   "cell_type": "code",
   "execution_count": 72,
   "id": "77e19fa5",
   "metadata": {},
   "outputs": [
    {
     "data": {
      "text/plain": [
       "array([0])"
      ]
     },
     "execution_count": 72,
     "metadata": {},
     "output_type": "execute_result"
    }
   ],
   "source": [
    "model.predict([[3,0,2,9]])"
   ]
  },
  {
   "cell_type": "code",
   "execution_count": 73,
   "id": "c268c226",
   "metadata": {},
   "outputs": [
    {
     "data": {
      "text/plain": [
       "array([1])"
      ]
     },
     "execution_count": 73,
     "metadata": {},
     "output_type": "execute_result"
    }
   ],
   "source": [
    "model.predict([[1,0,2,8]])"
   ]
  },
  {
   "cell_type": "code",
   "execution_count": 74,
   "id": "5a390090",
   "metadata": {},
   "outputs": [
    {
     "data": {
      "text/plain": [
       "array([0])"
      ]
     },
     "execution_count": 74,
     "metadata": {},
     "output_type": "execute_result"
    }
   ],
   "source": [
    "model.predict([[1,2,0,9]])"
   ]
  },
  {
   "cell_type": "code",
   "execution_count": 75,
   "id": "1922d90d",
   "metadata": {},
   "outputs": [
    {
     "data": {
      "text/plain": [
       "array([1])"
      ]
     },
     "execution_count": 75,
     "metadata": {},
     "output_type": "execute_result"
    }
   ],
   "source": [
    "model.predict([[2,1,0,5]])"
   ]
  },
  {
   "cell_type": "code",
   "execution_count": null,
   "id": "c2a2df55",
   "metadata": {},
   "outputs": [],
   "source": []
  },
  {
   "cell_type": "code",
   "execution_count": 76,
   "id": "f8d60dd6",
   "metadata": {},
   "outputs": [],
   "source": [
    "X = inputs_n\n",
    "y = target"
   ]
  },
  {
   "cell_type": "code",
   "execution_count": 77,
   "id": "d86b716a",
   "metadata": {},
   "outputs": [],
   "source": [
    "from sklearn.model_selection import train_test_split\n",
    "X_train, X_test, y_train, y_test = train_test_split(X,y,test_size=0.2)"
   ]
  },
  {
   "cell_type": "code",
   "execution_count": 78,
   "id": "d6e25a32",
   "metadata": {},
   "outputs": [
    {
     "data": {
      "text/html": [
       "<style>#sk-container-id-3 {color: black;background-color: white;}#sk-container-id-3 pre{padding: 0;}#sk-container-id-3 div.sk-toggleable {background-color: white;}#sk-container-id-3 label.sk-toggleable__label {cursor: pointer;display: block;width: 100%;margin-bottom: 0;padding: 0.3em;box-sizing: border-box;text-align: center;}#sk-container-id-3 label.sk-toggleable__label-arrow:before {content: \"▸\";float: left;margin-right: 0.25em;color: #696969;}#sk-container-id-3 label.sk-toggleable__label-arrow:hover:before {color: black;}#sk-container-id-3 div.sk-estimator:hover label.sk-toggleable__label-arrow:before {color: black;}#sk-container-id-3 div.sk-toggleable__content {max-height: 0;max-width: 0;overflow: hidden;text-align: left;background-color: #f0f8ff;}#sk-container-id-3 div.sk-toggleable__content pre {margin: 0.2em;color: black;border-radius: 0.25em;background-color: #f0f8ff;}#sk-container-id-3 input.sk-toggleable__control:checked~div.sk-toggleable__content {max-height: 200px;max-width: 100%;overflow: auto;}#sk-container-id-3 input.sk-toggleable__control:checked~label.sk-toggleable__label-arrow:before {content: \"▾\";}#sk-container-id-3 div.sk-estimator input.sk-toggleable__control:checked~label.sk-toggleable__label {background-color: #d4ebff;}#sk-container-id-3 div.sk-label input.sk-toggleable__control:checked~label.sk-toggleable__label {background-color: #d4ebff;}#sk-container-id-3 input.sk-hidden--visually {border: 0;clip: rect(1px 1px 1px 1px);clip: rect(1px, 1px, 1px, 1px);height: 1px;margin: -1px;overflow: hidden;padding: 0;position: absolute;width: 1px;}#sk-container-id-3 div.sk-estimator {font-family: monospace;background-color: #f0f8ff;border: 1px dotted black;border-radius: 0.25em;box-sizing: border-box;margin-bottom: 0.5em;}#sk-container-id-3 div.sk-estimator:hover {background-color: #d4ebff;}#sk-container-id-3 div.sk-parallel-item::after {content: \"\";width: 100%;border-bottom: 1px solid gray;flex-grow: 1;}#sk-container-id-3 div.sk-label:hover label.sk-toggleable__label {background-color: #d4ebff;}#sk-container-id-3 div.sk-serial::before {content: \"\";position: absolute;border-left: 1px solid gray;box-sizing: border-box;top: 0;bottom: 0;left: 50%;z-index: 0;}#sk-container-id-3 div.sk-serial {display: flex;flex-direction: column;align-items: center;background-color: white;padding-right: 0.2em;padding-left: 0.2em;position: relative;}#sk-container-id-3 div.sk-item {position: relative;z-index: 1;}#sk-container-id-3 div.sk-parallel {display: flex;align-items: stretch;justify-content: center;background-color: white;position: relative;}#sk-container-id-3 div.sk-item::before, #sk-container-id-3 div.sk-parallel-item::before {content: \"\";position: absolute;border-left: 1px solid gray;box-sizing: border-box;top: 0;bottom: 0;left: 50%;z-index: -1;}#sk-container-id-3 div.sk-parallel-item {display: flex;flex-direction: column;z-index: 1;position: relative;background-color: white;}#sk-container-id-3 div.sk-parallel-item:first-child::after {align-self: flex-end;width: 50%;}#sk-container-id-3 div.sk-parallel-item:last-child::after {align-self: flex-start;width: 50%;}#sk-container-id-3 div.sk-parallel-item:only-child::after {width: 0;}#sk-container-id-3 div.sk-dashed-wrapped {border: 1px dashed gray;margin: 0 0.4em 0.5em 0.4em;box-sizing: border-box;padding-bottom: 0.4em;background-color: white;}#sk-container-id-3 div.sk-label label {font-family: monospace;font-weight: bold;display: inline-block;line-height: 1.2em;}#sk-container-id-3 div.sk-label-container {text-align: center;}#sk-container-id-3 div.sk-container {/* jupyter's `normalize.less` sets `[hidden] { display: none; }` but bootstrap.min.css set `[hidden] { display: none !important; }` so we also need the `!important` here to be able to override the default hidden behavior on the sphinx rendered scikit-learn.org. See: https://github.com/scikit-learn/scikit-learn/issues/21755 */display: inline-block !important;position: relative;}#sk-container-id-3 div.sk-text-repr-fallback {display: none;}</style><div id=\"sk-container-id-3\" class=\"sk-top-container\"><div class=\"sk-text-repr-fallback\"><pre>RandomForestClassifier(n_estimators=20)</pre><b>In a Jupyter environment, please rerun this cell to show the HTML representation or trust the notebook. <br />On GitHub, the HTML representation is unable to render, please try loading this page with nbviewer.org.</b></div><div class=\"sk-container\" hidden><div class=\"sk-item\"><div class=\"sk-estimator sk-toggleable\"><input class=\"sk-toggleable__control sk-hidden--visually\" id=\"sk-estimator-id-3\" type=\"checkbox\" checked><label for=\"sk-estimator-id-3\" class=\"sk-toggleable__label sk-toggleable__label-arrow\">RandomForestClassifier</label><div class=\"sk-toggleable__content\"><pre>RandomForestClassifier(n_estimators=20)</pre></div></div></div></div></div>"
      ],
      "text/plain": [
       "RandomForestClassifier(n_estimators=20)"
      ]
     },
     "execution_count": 78,
     "metadata": {},
     "output_type": "execute_result"
    }
   ],
   "source": [
    "from sklearn.ensemble import RandomForestClassifier\n",
    "model = RandomForestClassifier(n_estimators=20)\n",
    "model.fit(X_train, y_train)"
   ]
  },
  {
   "cell_type": "code",
   "execution_count": 79,
   "id": "e15f0761",
   "metadata": {},
   "outputs": [
    {
     "data": {
      "text/plain": [
       "0.5819935691318328"
      ]
     },
     "execution_count": 79,
     "metadata": {},
     "output_type": "execute_result"
    }
   ],
   "source": [
    "model.score(X_test,y_test)"
   ]
  },
  {
   "cell_type": "code",
   "execution_count": 80,
   "id": "0124792f",
   "metadata": {},
   "outputs": [],
   "source": [
    "y_predicted = model.predict(X_test)"
   ]
  },
  {
   "cell_type": "code",
   "execution_count": 81,
   "id": "6b1bd591",
   "metadata": {},
   "outputs": [
    {
     "data": {
      "text/plain": [
       "array([[ 33, 244],\n",
       "       [146, 510]], dtype=int64)"
      ]
     },
     "execution_count": 81,
     "metadata": {},
     "output_type": "execute_result"
    }
   ],
   "source": [
    "from sklearn.metrics import confusion_matrix\n",
    "cm = confusion_matrix(y_test, y_predicted)\n",
    "cm"
   ]
  },
  {
   "cell_type": "code",
   "execution_count": 82,
   "id": "338029dd",
   "metadata": {},
   "outputs": [
    {
     "data": {
      "text/plain": [
       "Text(66.5, 0.5, 'Truth')"
      ]
     },
     "execution_count": 82,
     "metadata": {},
     "output_type": "execute_result"
    },
    {
     "data": {
      "image/png": "[encoded data removed]",
      "text/plain": [
       "<Figure size 720x504 with 2 Axes>"
      ]
     },
     "metadata": {
      "needs_background": "light"
     },
     "output_type": "display_data"
    }
   ],
   "source": [
    "%matplotlib inline\n",
    "import matplotlib.pyplot as plt\n",
    "import seaborn as sn\n",
    "plt.figure(figsize=(10,7))\n",
    "sn.heatmap(cm, annot=True)\n",
    "plt.xlabel('Predicted')\n",
    "plt.ylabel('Truth')"
   ]
  },
  {
   "cell_type": "markdown",
   "id": "791faba3",
   "metadata": {},
   "source": [
    "# SVM Classifier"
   ]
  },
  {
   "cell_type": "code",
   "execution_count": 83,
   "id": "69b84831",
   "metadata": {},
   "outputs": [],
   "source": [
    "from sklearn.svm import SVC\n",
    "model = SVC()"
   ]
  },
  {
   "cell_type": "code",
   "execution_count": 84,
   "id": "29d40cb3",
   "metadata": {},
   "outputs": [
    {
     "data": {
      "text/html": [
       "<style>#sk-container-id-4 {color: black;background-color: white;}#sk-container-id-4 pre{padding: 0;}#sk-container-id-4 div.sk-toggleable {background-color: white;}#sk-container-id-4 label.sk-toggleable__label {cursor: pointer;display: block;width: 100%;margin-bottom: 0;padding: 0.3em;box-sizing: border-box;text-align: center;}#sk-container-id-4 label.sk-toggleable__label-arrow:before {content: \"▸\";float: left;margin-right: 0.25em;color: #696969;}#sk-container-id-4 label.sk-toggleable__label-arrow:hover:before {color: black;}#sk-container-id-4 div.sk-estimator:hover label.sk-toggleable__label-arrow:before {color: black;}#sk-container-id-4 div.sk-toggleable__content {max-height: 0;max-width: 0;overflow: hidden;text-align: left;background-color: #f0f8ff;}#sk-container-id-4 div.sk-toggleable__content pre {margin: 0.2em;color: black;border-radius: 0.25em;background-color: #f0f8ff;}#sk-container-id-4 input.sk-toggleable__control:checked~div.sk-toggleable__content {max-height: 200px;max-width: 100%;overflow: auto;}#sk-container-id-4 input.sk-toggleable__control:checked~label.sk-toggleable__label-arrow:before {content: \"▾\";}#sk-container-id-4 div.sk-estimator input.sk-toggleable__control:checked~label.sk-toggleable__label {background-color: #d4ebff;}#sk-container-id-4 div.sk-label input.sk-toggleable__control:checked~label.sk-toggleable__label {background-color: #d4ebff;}#sk-container-id-4 input.sk-hidden--visually {border: 0;clip: rect(1px 1px 1px 1px);clip: rect(1px, 1px, 1px, 1px);height: 1px;margin: -1px;overflow: hidden;padding: 0;position: absolute;width: 1px;}#sk-container-id-4 div.sk-estimator {font-family: monospace;background-color: #f0f8ff;border: 1px dotted black;border-radius: 0.25em;box-sizing: border-box;margin-bottom: 0.5em;}#sk-container-id-4 div.sk-estimator:hover {background-color: #d4ebff;}#sk-container-id-4 div.sk-parallel-item::after {content: \"\";width: 100%;border-bottom: 1px solid gray;flex-grow: 1;}#sk-container-id-4 div.sk-label:hover label.sk-toggleable__label {background-color: #d4ebff;}#sk-container-id-4 div.sk-serial::before {content: \"\";position: absolute;border-left: 1px solid gray;box-sizing: border-box;top: 0;bottom: 0;left: 50%;z-index: 0;}#sk-container-id-4 div.sk-serial {display: flex;flex-direction: column;align-items: center;background-color: white;padding-right: 0.2em;padding-left: 0.2em;position: relative;}#sk-container-id-4 div.sk-item {position: relative;z-index: 1;}#sk-container-id-4 div.sk-parallel {display: flex;align-items: stretch;justify-content: center;background-color: white;position: relative;}#sk-container-id-4 div.sk-item::before, #sk-container-id-4 div.sk-parallel-item::before {content: \"\";position: absolute;border-left: 1px solid gray;box-sizing: border-box;top: 0;bottom: 0;left: 50%;z-index: -1;}#sk-container-id-4 div.sk-parallel-item {display: flex;flex-direction: column;z-index: 1;position: relative;background-color: white;}#sk-container-id-4 div.sk-parallel-item:first-child::after {align-self: flex-end;width: 50%;}#sk-container-id-4 div.sk-parallel-item:last-child::after {align-self: flex-start;width: 50%;}#sk-container-id-4 div.sk-parallel-item:only-child::after {width: 0;}#sk-container-id-4 div.sk-dashed-wrapped {border: 1px dashed gray;margin: 0 0.4em 0.5em 0.4em;box-sizing: border-box;padding-bottom: 0.4em;background-color: white;}#sk-container-id-4 div.sk-label label {font-family: monospace;font-weight: bold;display: inline-block;line-height: 1.2em;}#sk-container-id-4 div.sk-label-container {text-align: center;}#sk-container-id-4 div.sk-container {/* jupyter's `normalize.less` sets `[hidden] { display: none; }` but bootstrap.min.css set `[hidden] { display: none !important; }` so we also need the `!important` here to be able to override the default hidden behavior on the sphinx rendered scikit-learn.org. See: https://github.com/scikit-learn/scikit-learn/issues/21755 */display: inline-block !important;position: relative;}#sk-container-id-4 div.sk-text-repr-fallback {display: none;}</style><div id=\"sk-container-id-4\" class=\"sk-top-container\"><div class=\"sk-text-repr-fallback\"><pre>SVC()</pre><b>In a Jupyter environment, please rerun this cell to show the HTML representation or trust the notebook. <br />On GitHub, the HTML representation is unable to render, please try loading this page with nbviewer.org.</b></div><div class=\"sk-container\" hidden><div class=\"sk-item\"><div class=\"sk-estimator sk-toggleable\"><input class=\"sk-toggleable__control sk-hidden--visually\" id=\"sk-estimator-id-4\" type=\"checkbox\" checked><label for=\"sk-estimator-id-4\" class=\"sk-toggleable__label sk-toggleable__label-arrow\">SVC</label><div class=\"sk-toggleable__content\"><pre>SVC()</pre></div></div></div></div></div>"
      ],
      "text/plain": [
       "SVC()"
      ]
     },
     "execution_count": 84,
     "metadata": {},
     "output_type": "execute_result"
    }
   ],
   "source": [
    "model.fit(X_train, y_train)"
   ]
  },
  {
   "cell_type": "code",
   "execution_count": 85,
   "id": "71757304",
   "metadata": {},
   "outputs": [
    {
     "data": {
      "text/plain": [
       "0.7031082529474812"
      ]
     },
     "execution_count": 85,
     "metadata": {},
     "output_type": "execute_result"
    }
   ],
   "source": [
    "model.score(X_test,y_test)"
   ]
  },
  {
   "cell_type": "code",
   "execution_count": 86,
   "id": "32c581ac",
   "metadata": {},
   "outputs": [
    {
     "data": {
      "text/plain": [
       "0.7031082529474812"
      ]
     },
     "execution_count": 86,
     "metadata": {},
     "output_type": "execute_result"
    }
   ],
   "source": [
    "model_C = SVC(C=1)\n",
    "model_C.fit(X_train, y_train)\n",
    "model_C.score(X_test, y_test)"
   ]
  },
  {
   "cell_type": "code",
   "execution_count": 87,
   "id": "278b90ea",
   "metadata": {},
   "outputs": [
    {
     "data": {
      "text/plain": [
       "0.7031082529474812"
      ]
     },
     "execution_count": 87,
     "metadata": {},
     "output_type": "execute_result"
    }
   ],
   "source": [
    "model_C = SVC(C=10)\n",
    "model_C.fit(X_train, y_train)\n",
    "model_C.score(X_test, y_test)"
   ]
  },
  {
   "cell_type": "code",
   "execution_count": null,
   "id": "926087c0",
   "metadata": {},
   "outputs": [],
   "source": []
  },
  {
   "cell_type": "markdown",
   "id": "af30bc81",
   "metadata": {},
   "source": [
    "# knn classifier"
   ]
  },
  {
   "cell_type": "code",
   "execution_count": 88,
   "id": "119504d0",
   "metadata": {},
   "outputs": [],
   "source": [
    "from sklearn.neighbors import KNeighborsClassifier\n",
    "knn = KNeighborsClassifier(n_neighbors=10)"
   ]
  },
  {
   "cell_type": "code",
   "execution_count": 89,
   "id": "2e71dd8c",
   "metadata": {},
   "outputs": [
    {
     "data": {
      "text/html": [
       "<style>#sk-container-id-5 {color: black;background-color: white;}#sk-container-id-5 pre{padding: 0;}#sk-container-id-5 div.sk-toggleable {background-color: white;}#sk-container-id-5 label.sk-toggleable__label {cursor: pointer;display: block;width: 100%;margin-bottom: 0;padding: 0.3em;box-sizing: border-box;text-align: center;}#sk-container-id-5 label.sk-toggleable__label-arrow:before {content: \"▸\";float: left;margin-right: 0.25em;color: #696969;}#sk-container-id-5 label.sk-toggleable__label-arrow:hover:before {color: black;}#sk-container-id-5 div.sk-estimator:hover label.sk-toggleable__label-arrow:before {color: black;}#sk-container-id-5 div.sk-toggleable__content {max-height: 0;max-width: 0;overflow: hidden;text-align: left;background-color: #f0f8ff;}#sk-container-id-5 div.sk-toggleable__content pre {margin: 0.2em;color: black;border-radius: 0.25em;background-color: #f0f8ff;}#sk-container-id-5 input.sk-toggleable__control:checked~div.sk-toggleable__content {max-height: 200px;max-width: 100%;overflow: auto;}#sk-container-id-5 input.sk-toggleable__control:checked~label.sk-toggleable__label-arrow:before {content: \"▾\";}#sk-container-id-5 div.sk-estimator input.sk-toggleable__control:checked~label.sk-toggleable__label {background-color: #d4ebff;}#sk-container-id-5 div.sk-label input.sk-toggleable__control:checked~label.sk-toggleable__label {background-color: #d4ebff;}#sk-container-id-5 input.sk-hidden--visually {border: 0;clip: rect(1px 1px 1px 1px);clip: rect(1px, 1px, 1px, 1px);height: 1px;margin: -1px;overflow: hidden;padding: 0;position: absolute;width: 1px;}#sk-container-id-5 div.sk-estimator {font-family: monospace;background-color: #f0f8ff;border: 1px dotted black;border-radius: 0.25em;box-sizing: border-box;margin-bottom: 0.5em;}#sk-container-id-5 div.sk-estimator:hover {background-color: #d4ebff;}#sk-container-id-5 div.sk-parallel-item::after {content: \"\";width: 100%;border-bottom: 1px solid gray;flex-grow: 1;}#sk-container-id-5 div.sk-label:hover label.sk-toggleable__label {background-color: #d4ebff;}#sk-container-id-5 div.sk-serial::before {content: \"\";position: absolute;border-left: 1px solid gray;box-sizing: border-box;top: 0;bottom: 0;left: 50%;z-index: 0;}#sk-container-id-5 div.sk-serial {display: flex;flex-direction: column;align-items: center;background-color: white;padding-right: 0.2em;padding-left: 0.2em;position: relative;}#sk-container-id-5 div.sk-item {position: relative;z-index: 1;}#sk-container-id-5 div.sk-parallel {display: flex;align-items: stretch;justify-content: center;background-color: white;position: relative;}#sk-container-id-5 div.sk-item::before, #sk-container-id-5 div.sk-parallel-item::before {content: \"\";position: absolute;border-left: 1px solid gray;box-sizing: border-box;top: 0;bottom: 0;left: 50%;z-index: -1;}#sk-container-id-5 div.sk-parallel-item {display: flex;flex-direction: column;z-index: 1;position: relative;background-color: white;}#sk-container-id-5 div.sk-parallel-item:first-child::after {align-self: flex-end;width: 50%;}#sk-container-id-5 div.sk-parallel-item:last-child::after {align-self: flex-start;width: 50%;}#sk-container-id-5 div.sk-parallel-item:only-child::after {width: 0;}#sk-container-id-5 div.sk-dashed-wrapped {border: 1px dashed gray;margin: 0 0.4em 0.5em 0.4em;box-sizing: border-box;padding-bottom: 0.4em;background-color: white;}#sk-container-id-5 div.sk-label label {font-family: monospace;font-weight: bold;display: inline-block;line-height: 1.2em;}#sk-container-id-5 div.sk-label-container {text-align: center;}#sk-container-id-5 div.sk-container {/* jupyter's `normalize.less` sets `[hidden] { display: none; }` but bootstrap.min.css set `[hidden] { display: none !important; }` so we also need the `!important` here to be able to override the default hidden behavior on the sphinx rendered scikit-learn.org. See: https://github.com/scikit-learn/scikit-learn/issues/21755 */display: inline-block !important;position: relative;}#sk-container-id-5 div.sk-text-repr-fallback {display: none;}</style><div id=\"sk-container-id-5\" class=\"sk-top-container\"><div class=\"sk-text-repr-fallback\"><pre>KNeighborsClassifier(n_neighbors=10)</pre><b>In a Jupyter environment, please rerun this cell to show the HTML representation or trust the notebook. <br />On GitHub, the HTML representation is unable to render, please try loading this page with nbviewer.org.</b></div><div class=\"sk-container\" hidden><div class=\"sk-item\"><div class=\"sk-estimator sk-toggleable\"><input class=\"sk-toggleable__control sk-hidden--visually\" id=\"sk-estimator-id-5\" type=\"checkbox\" checked><label for=\"sk-estimator-id-5\" class=\"sk-toggleable__label sk-toggleable__label-arrow\">KNeighborsClassifier</label><div class=\"sk-toggleable__content\"><pre>KNeighborsClassifier(n_neighbors=10)</pre></div></div></div></div></div>"
      ],
      "text/plain": [
       "KNeighborsClassifier(n_neighbors=10)"
      ]
     },
     "execution_count": 89,
     "metadata": {},
     "output_type": "execute_result"
    }
   ],
   "source": [
    "knn.fit(X_train, y_train)"
   ]
  },
  {
   "cell_type": "code",
   "execution_count": 90,
   "id": "54370883",
   "metadata": {},
   "outputs": [
    {
     "data": {
      "text/plain": [
       "0.6162915326902465"
      ]
     },
     "execution_count": 90,
     "metadata": {},
     "output_type": "execute_result"
    }
   ],
   "source": [
    "knn.score(X_test, y_test)"
   ]
  },
  {
   "cell_type": "code",
   "execution_count": 91,
   "id": "f3e5a036",
   "metadata": {},
   "outputs": [
    {
     "data": {
      "text/plain": [
       "array([[ 67, 210],\n",
       "       [148, 508]], dtype=int64)"
      ]
     },
     "execution_count": 91,
     "metadata": {},
     "output_type": "execute_result"
    }
   ],
   "source": [
    "from sklearn.metrics import confusion_matrix\n",
    "y_pred = knn.predict(X_test)\n",
    "cm = confusion_matrix(y_test, y_pred)\n",
    "cm"
   ]
  },
  {
   "cell_type": "code",
   "execution_count": 92,
   "id": "b9bc8c12",
   "metadata": {},
   "outputs": [
    {
     "data": {
      "text/plain": [
       "Text(66.5, 0.5, 'Truth')"
      ]
     },
     "execution_count": 92,
     "metadata": {},
     "output_type": "execute_result"
    },
    {
     "data": {
      "image/png": "[encoded data removed]",
      "text/plain": [
       "<Figure size 720x504 with 2 Axes>"
      ]
     },
     "metadata": {
      "needs_background": "light"
     },
     "output_type": "display_data"
    }
   ],
   "source": [
    "%matplotlib inline\n",
    "import matplotlib.pyplot as plt\n",
    "import seaborn as sn\n",
    "plt.figure(figsize=(10,7))\n",
    "sn.heatmap(cm, annot=True)\n",
    "plt.xlabel('Predicted')\n",
    "plt.ylabel('Truth')"
   ]
  },
  {
   "cell_type": "code",
   "execution_count": 93,
   "id": "d368f56e",
   "metadata": {},
   "outputs": [
    {
     "name": "stdout",
     "output_type": "stream",
     "text": [
      "              precision    recall  f1-score   support\n",
      "\n",
      "           0       0.31      0.24      0.27       277\n",
      "           1       0.71      0.77      0.74       656\n",
      "\n",
      "    accuracy                           0.62       933\n",
      "   macro avg       0.51      0.51      0.51       933\n",
      "weighted avg       0.59      0.62      0.60       933\n",
      "\n"
     ]
    }
   ],
   "source": [
    "from sklearn.metrics import classification_report\n",
    "\n",
    "print(classification_report(y_test, y_pred))"
   ]
  },
  {
   "cell_type": "code",
   "execution_count": null,
   "id": "581e6cad",
   "metadata": {},
   "outputs": [],
   "source": []
  },
  {
   "cell_type": "code",
   "execution_count": 94,
   "id": "0832e65d",
   "metadata": {},
   "outputs": [],
   "source": [
    "from sklearn.linear_model import LogisticRegression"
   ]
  },
  {
   "cell_type": "code",
   "execution_count": 95,
   "id": "ac7abd1e",
   "metadata": {},
   "outputs": [],
   "source": [
    "from sklearn.model_selection import train_test_split\n",
    "X_train, X_test, y_train, y_test = train_test_split(inputs_n,target,test_size=0.3)"
   ]
  },
  {
   "cell_type": "code",
   "execution_count": 96,
   "id": "25c016dd",
   "metadata": {},
   "outputs": [
    {
     "data": {
      "text/plain": [
       "0.7083631165117942"
      ]
     },
     "execution_count": 96,
     "metadata": {},
     "output_type": "execute_result"
    }
   ],
   "source": [
    "lr = LogisticRegression(solver='liblinear',multi_class='ovr')\n",
    "lr.fit(X_train, y_train)\n",
    "lr.score(X_test, y_test)"
   ]
  },
  {
   "cell_type": "code",
   "execution_count": 97,
   "id": "8b6f047e",
   "metadata": {},
   "outputs": [
    {
     "data": {
      "text/plain": [
       "0.7083631165117942"
      ]
     },
     "execution_count": 97,
     "metadata": {},
     "output_type": "execute_result"
    }
   ],
   "source": [
    "svm = SVC(gamma='auto')\n",
    "svm.fit(X_train, y_train)\n",
    "svm.score(X_test, y_test)"
   ]
  },
  {
   "cell_type": "code",
   "execution_count": 98,
   "id": "892ec470",
   "metadata": {},
   "outputs": [
    {
     "data": {
      "text/plain": [
       "0.5739814152966405"
      ]
     },
     "execution_count": 98,
     "metadata": {},
     "output_type": "execute_result"
    }
   ],
   "source": [
    "rf = RandomForestClassifier(n_estimators=40)\n",
    "rf.fit(X_train, y_train)\n",
    "rf.score(X_test, y_test)"
   ]
  },
  {
   "cell_type": "code",
   "execution_count": null,
   "id": "62f0b511",
   "metadata": {},
   "outputs": [],
   "source": []
  },
  {
   "cell_type": "markdown",
   "id": "925066f7",
   "metadata": {},
   "source": [
    "# NLP"
   ]
  },
  {
   "cell_type": "code",
   "execution_count": 99,
   "id": "7fab6aa6",
   "metadata": {},
   "outputs": [
    {
     "data": {
      "text/plain": [
       "1     Total, satisfaction with work-home balance\n",
       "5                    Very satisfied or satisfied\n",
       "9                                 Very satisfied\n",
       "13                                     Satisfied\n",
       "17            Neither satisfied nor dissatisfied\n",
       "21             Dissatisfied or very dissatisfied\n",
       "25                                  Dissatisfied\n",
       "29                             Very dissatisfied\n",
       "33                                       unknown\n",
       "Name: Response, dtype: object"
      ]
     },
     "execution_count": 99,
     "metadata": {},
     "output_type": "execute_result"
    }
   ],
   "source": [
    "text=rndfr_dataframe1.Response.iloc[:9]\n",
    "text"
   ]
  },
  {
   "cell_type": "code",
   "execution_count": 100,
   "id": "a24fc58c",
   "metadata": {},
   "outputs": [],
   "source": [
    "text=''\n",
    "for Feel in rndfr_dataframe1.Response.iloc[:9]:\n",
    "    for a in Feel.split():\n",
    "        text = text+' '+ a"
   ]
  },
  {
   "cell_type": "code",
   "execution_count": 101,
   "id": "3a580923",
   "metadata": {},
   "outputs": [
    {
     "name": "stdout",
     "output_type": "stream",
     "text": [
      " Total, satisfaction with work-home balance Very satisfied or satisfied Very satisfied Satisfied Neither satisfied nor dissatisfied Dissatisfied or very dissatisfied Dissatisfied Very dissatisfied unknown\n"
     ]
    }
   ],
   "source": [
    "print(text)"
   ]
  },
  {
   "cell_type": "code",
   "execution_count": 102,
   "id": "0b6739fc",
   "metadata": {},
   "outputs": [],
   "source": [
    "# text=rndfr_dataframe1.Response\n",
    "# text"
   ]
  },
  {
   "cell_type": "code",
   "execution_count": 103,
   "id": "ff9d7e15",
   "metadata": {},
   "outputs": [],
   "source": [
    "# !pip install wordcloud\n"
   ]
  },
  {
   "cell_type": "code",
   "execution_count": 104,
   "id": "038f8543",
   "metadata": {},
   "outputs": [],
   "source": [
    "from wordcloud import WordCloud"
   ]
  },
  {
   "cell_type": "code",
   "execution_count": 105,
   "id": "3ee93cdd",
   "metadata": {},
   "outputs": [],
   "source": [
    "word_cloud = WordCloud(collocations = False, background_color = 'white').generate(text)"
   ]
  },
  {
   "cell_type": "code",
   "execution_count": 106,
   "id": "80903e3c",
   "metadata": {},
   "outputs": [
    {
     "data": {
      "image/png": "[encoded data removed]",
      "text/plain": [
       "<Figure size 720x576 with 1 Axes>"
      ]
     },
     "metadata": {
      "needs_background": "light"
     },
     "output_type": "display_data"
    }
   ],
   "source": [
    "plt.figure(figsize=(10,8))\n",
    "plt.imshow(word_cloud, interpolation='bilinear')\n",
    "plt.axis(\"off\")\n",
    "plt.show()"
   ]
  },
  {
   "cell_type": "code",
   "execution_count": null,
   "id": "93c9cccc",
   "metadata": {},
   "outputs": [],
   "source": []
  },
  {
   "cell_type": "code",
   "execution_count": 107,
   "id": "58477d53",
   "metadata": {},
   "outputs": [],
   "source": [
    "import pandas as pd\n",
    "from sklearn.model_selection import train_test_split\n",
    "from sklearn.linear_model import LogisticRegression\n",
    "import re\n",
    "from sklearn.metrics import classification_report\n",
    "from sklearn.feature_extraction.text import TfidfVectorizer,CountVectorizer,TfidfTransformer\n",
    "from sklearn import svm\n",
    "from sklearn.naive_bayes import MultinomialNB\n",
    "from sklearn.metrics import accuracy_score"
   ]
  },
  {
   "cell_type": "code",
   "execution_count": 108,
   "id": "b6df3a91",
   "metadata": {},
   "outputs": [],
   "source": [
    "new_df=df2[['Response']]"
   ]
  },
  {
   "cell_type": "code",
   "execution_count": 109,
   "id": "7510258c",
   "metadata": {},
   "outputs": [],
   "source": [
    "new_df['satisfaction']=df2[['Response']]"
   ]
  },
  {
   "cell_type": "code",
   "execution_count": 110,
   "id": "2849c17c",
   "metadata": {},
   "outputs": [
    {
     "data": {
      "text/html": [
       "<div>\n",
       "<style scoped>\n",
       "    .dataframe tbody tr th:only-of-type {\n",
       "        vertical-align: middle;\n",
       "    }\n",
       "\n",
       "    .dataframe tbody tr th {\n",
       "        vertical-align: top;\n",
       "    }\n",
       "\n",
       "    .dataframe thead th {\n",
       "        text-align: right;\n",
       "    }\n",
       "</style>\n",
       "<table border=\"1\" class=\"dataframe\">\n",
       "  <thead>\n",
       "    <tr style=\"text-align: right;\">\n",
       "      <th></th>\n",
       "      <th>Response</th>\n",
       "      <th>satisfaction</th>\n",
       "    </tr>\n",
       "  </thead>\n",
       "  <tbody>\n",
       "    <tr>\n",
       "      <th>1</th>\n",
       "      <td>Total, satisfaction with work-home balance</td>\n",
       "      <td>Total, satisfaction with work-home balance</td>\n",
       "    </tr>\n",
       "    <tr>\n",
       "      <th>5</th>\n",
       "      <td>Very satisfied or satisfied</td>\n",
       "      <td>Very satisfied or satisfied</td>\n",
       "    </tr>\n",
       "    <tr>\n",
       "      <th>9</th>\n",
       "      <td>Very satisfied</td>\n",
       "      <td>Very satisfied</td>\n",
       "    </tr>\n",
       "    <tr>\n",
       "      <th>13</th>\n",
       "      <td>Satisfied</td>\n",
       "      <td>Satisfied</td>\n",
       "    </tr>\n",
       "    <tr>\n",
       "      <th>17</th>\n",
       "      <td>Neither satisfied nor dissatisfied</td>\n",
       "      <td>Neither satisfied nor dissatisfied</td>\n",
       "    </tr>\n",
       "    <tr>\n",
       "      <th>21</th>\n",
       "      <td>Dissatisfied or very dissatisfied</td>\n",
       "      <td>Dissatisfied or very dissatisfied</td>\n",
       "    </tr>\n",
       "    <tr>\n",
       "      <th>25</th>\n",
       "      <td>Dissatisfied</td>\n",
       "      <td>Dissatisfied</td>\n",
       "    </tr>\n",
       "    <tr>\n",
       "      <th>29</th>\n",
       "      <td>Very dissatisfied</td>\n",
       "      <td>Very dissatisfied</td>\n",
       "    </tr>\n",
       "    <tr>\n",
       "      <th>33</th>\n",
       "      <td>unknown</td>\n",
       "      <td>unknown</td>\n",
       "    </tr>\n",
       "    <tr>\n",
       "      <th>37</th>\n",
       "      <td>Total, satisfaction with work-home balance</td>\n",
       "      <td>Total, satisfaction with work-home balance</td>\n",
       "    </tr>\n",
       "    <tr>\n",
       "      <th>41</th>\n",
       "      <td>Very satisfied or satisfied</td>\n",
       "      <td>Very satisfied or satisfied</td>\n",
       "    </tr>\n",
       "    <tr>\n",
       "      <th>45</th>\n",
       "      <td>Very satisfied</td>\n",
       "      <td>Very satisfied</td>\n",
       "    </tr>\n",
       "    <tr>\n",
       "      <th>49</th>\n",
       "      <td>Satisfied</td>\n",
       "      <td>Satisfied</td>\n",
       "    </tr>\n",
       "    <tr>\n",
       "      <th>53</th>\n",
       "      <td>Neither satisfied nor dissatisfied</td>\n",
       "      <td>Neither satisfied nor dissatisfied</td>\n",
       "    </tr>\n",
       "    <tr>\n",
       "      <th>57</th>\n",
       "      <td>Dissatisfied or very dissatisfied</td>\n",
       "      <td>Dissatisfied or very dissatisfied</td>\n",
       "    </tr>\n",
       "  </tbody>\n",
       "</table>\n",
       "</div>"
      ],
      "text/plain": [
       "                                      Response  \\\n",
       "1   Total, satisfaction with work-home balance   \n",
       "5                  Very satisfied or satisfied   \n",
       "9                               Very satisfied   \n",
       "13                                   Satisfied   \n",
       "17          Neither satisfied nor dissatisfied   \n",
       "21           Dissatisfied or very dissatisfied   \n",
       "25                                Dissatisfied   \n",
       "29                           Very dissatisfied   \n",
       "33                                     unknown   \n",
       "37  Total, satisfaction with work-home balance   \n",
       "41                 Very satisfied or satisfied   \n",
       "45                              Very satisfied   \n",
       "49                                   Satisfied   \n",
       "53          Neither satisfied nor dissatisfied   \n",
       "57           Dissatisfied or very dissatisfied   \n",
       "\n",
       "                                  satisfaction  \n",
       "1   Total, satisfaction with work-home balance  \n",
       "5                  Very satisfied or satisfied  \n",
       "9                               Very satisfied  \n",
       "13                                   Satisfied  \n",
       "17          Neither satisfied nor dissatisfied  \n",
       "21           Dissatisfied or very dissatisfied  \n",
       "25                                Dissatisfied  \n",
       "29                           Very dissatisfied  \n",
       "33                                     unknown  \n",
       "37  Total, satisfaction with work-home balance  \n",
       "41                 Very satisfied or satisfied  \n",
       "45                              Very satisfied  \n",
       "49                                   Satisfied  \n",
       "53          Neither satisfied nor dissatisfied  \n",
       "57           Dissatisfied or very dissatisfied  "
      ]
     },
     "execution_count": 110,
     "metadata": {},
     "output_type": "execute_result"
    }
   ],
   "source": [
    "new_df.head(15)"
   ]
  },
  {
   "cell_type": "code",
   "execution_count": 111,
   "id": "ca8f148f",
   "metadata": {},
   "outputs": [
    {
     "data": {
      "text/html": [
       "<div>\n",
       "<style scoped>\n",
       "    .dataframe tbody tr th:only-of-type {\n",
       "        vertical-align: middle;\n",
       "    }\n",
       "\n",
       "    .dataframe tbody tr th {\n",
       "        vertical-align: top;\n",
       "    }\n",
       "\n",
       "    .dataframe thead th {\n",
       "        text-align: right;\n",
       "    }\n",
       "</style>\n",
       "<table border=\"1\" class=\"dataframe\">\n",
       "  <thead>\n",
       "    <tr style=\"text-align: right;\">\n",
       "      <th></th>\n",
       "      <th>Response</th>\n",
       "      <th>satisfaction</th>\n",
       "    </tr>\n",
       "  </thead>\n",
       "  <tbody>\n",
       "    <tr>\n",
       "      <th>1</th>\n",
       "      <td>Total, satisfaction with work-home balance</td>\n",
       "      <td>8</td>\n",
       "    </tr>\n",
       "    <tr>\n",
       "      <th>5</th>\n",
       "      <td>Very satisfied or satisfied</td>\n",
       "      <td>6</td>\n",
       "    </tr>\n",
       "    <tr>\n",
       "      <th>9</th>\n",
       "      <td>Very satisfied</td>\n",
       "      <td>7</td>\n",
       "    </tr>\n",
       "    <tr>\n",
       "      <th>13</th>\n",
       "      <td>Satisfied</td>\n",
       "      <td>5</td>\n",
       "    </tr>\n",
       "    <tr>\n",
       "      <th>17</th>\n",
       "      <td>Neither satisfied nor dissatisfied</td>\n",
       "      <td>4</td>\n",
       "    </tr>\n",
       "    <tr>\n",
       "      <th>21</th>\n",
       "      <td>Dissatisfied or very dissatisfied</td>\n",
       "      <td>2</td>\n",
       "    </tr>\n",
       "    <tr>\n",
       "      <th>25</th>\n",
       "      <td>Dissatisfied</td>\n",
       "      <td>3</td>\n",
       "    </tr>\n",
       "    <tr>\n",
       "      <th>29</th>\n",
       "      <td>Very dissatisfied</td>\n",
       "      <td>1</td>\n",
       "    </tr>\n",
       "    <tr>\n",
       "      <th>33</th>\n",
       "      <td>unknown</td>\n",
       "      <td>0</td>\n",
       "    </tr>\n",
       "  </tbody>\n",
       "</table>\n",
       "</div>"
      ],
      "text/plain": [
       "                                      Response satisfaction\n",
       "1   Total, satisfaction with work-home balance            8\n",
       "5                  Very satisfied or satisfied            6\n",
       "9                               Very satisfied            7\n",
       "13                                   Satisfied            5\n",
       "17          Neither satisfied nor dissatisfied            4\n",
       "21           Dissatisfied or very dissatisfied            2\n",
       "25                                Dissatisfied            3\n",
       "29                           Very dissatisfied            1\n",
       "33                                     unknown            0"
      ]
     },
     "execution_count": 111,
     "metadata": {},
     "output_type": "execute_result"
    }
   ],
   "source": [
    "new_df.satisfaction[(new_df.satisfaction == 'Total, satisfaction with work-home balance')]=8\n",
    "new_df.satisfaction[(new_df.satisfaction == 'Very satisfied')]=7\n",
    "new_df.satisfaction[(new_df.satisfaction== 'Very satisfied or satisfied')]=6\n",
    "new_df.satisfaction[(new_df.satisfaction == 'Satisfied')]=5\n",
    "new_df.satisfaction[(new_df.satisfaction == 'Neither satisfied nor dissatisfied')]=4\n",
    "new_df.satisfaction[(new_df.satisfaction == 'Dissatisfied')]=3\n",
    "new_df.satisfaction[(new_df.satisfaction== 'Very dissatisfied')]=1\n",
    "new_df.satisfaction[(new_df.satisfaction == 'Dissatisfied or very dissatisfied')]=2\n",
    "new_df.satisfaction[(new_df.satisfaction == 'unknown')]= 0\n",
    "new_df.head(9)"
   ]
  },
  {
   "cell_type": "code",
   "execution_count": 112,
   "id": "02c67e9b",
   "metadata": {},
   "outputs": [],
   "source": [
    "new_df['satisfaction']=new_df['satisfaction'].astype('int')"
   ]
  },
  {
   "cell_type": "code",
   "execution_count": 113,
   "id": "3b2723d9",
   "metadata": {},
   "outputs": [],
   "source": [
    "vectorizer = CountVectorizer()\n",
    "tf=TfidfTransformer()\n",
    "X=new_df['Response']\n",
    "y=new_df['satisfaction']\n",
    "\n",
    "# using train test and split\n",
    "X_train,X_test,y_train,y_test = train_test_split(X,y,test_size=0.2,random_state=101)\n",
    "\n",
    "X_train = vectorizer.fit_transform(X_train)\n",
    "X_train=tf.fit_transform(X_train)\n",
    "\n",
    "X_test = vectorizer.transform(X_test)\n",
    "X_test = tf.transform(X_test)"
   ]
  },
  {
   "cell_type": "code",
   "execution_count": 114,
   "id": "0650a623",
   "metadata": {},
   "outputs": [
    {
     "name": "stdout",
     "output_type": "stream",
     "text": [
      "              precision    recall  f1-score   support\n",
      "\n",
      "           0       1.00      1.00      1.00         8\n",
      "           1       1.00      1.00      1.00        13\n",
      "           2       1.00      1.00      1.00        67\n",
      "           3       1.00      1.00      1.00        54\n",
      "           4       1.00      1.00      1.00        95\n",
      "           5       1.00      1.00      1.00       180\n",
      "           6       1.00      1.00      1.00       190\n",
      "           7       1.00      1.00      1.00       127\n",
      "           8       1.00      1.00      1.00       199\n",
      "\n",
      "    accuracy                           1.00       933\n",
      "   macro avg       1.00      1.00      1.00       933\n",
      "weighted avg       1.00      1.00      1.00       933\n",
      "\n",
      "1.0\n"
     ]
    }
   ],
   "source": [
    "log_model=LogisticRegression(max_iter=1000)\n",
    "log_model.fit(X_train,y_train)\n",
    "\n",
    "preds= log_model.predict(X_test)\n",
    "print(classification_report(y_test,preds))\n",
    "print(accuracy_score(y_test,preds))"
   ]
  },
  {
   "cell_type": "code",
   "execution_count": 115,
   "id": "6dfbf4fa",
   "metadata": {},
   "outputs": [
    {
     "name": "stdout",
     "output_type": "stream",
     "text": [
      "              precision    recall  f1-score   support\n",
      "\n",
      "           0       1.00      1.00      1.00         8\n",
      "           1       0.00      0.00      0.00        13\n",
      "           2       0.84      1.00      0.91        67\n",
      "           3       1.00      1.00      1.00        54\n",
      "           4       1.00      1.00      1.00        95\n",
      "           5       1.00      1.00      1.00       180\n",
      "           6       1.00      1.00      1.00       190\n",
      "           7       1.00      1.00      1.00       127\n",
      "           8       1.00      1.00      1.00       199\n",
      "\n",
      "    accuracy                           0.99       933\n",
      "   macro avg       0.87      0.89      0.88       933\n",
      "weighted avg       0.97      0.99      0.98       933\n",
      "\n",
      "0.9860664523043944\n"
     ]
    }
   ],
   "source": [
    "nb = MultinomialNB()\n",
    "nb.fit(X_train, y_train)\n",
    "nb_preds = nb.predict(X_test)\n",
    "print(classification_report(y_test,nb_preds))\n",
    "print(accuracy_score(y_test, nb_preds))"
   ]
  },
  {
   "cell_type": "code",
   "execution_count": null,
   "id": "b1141fa5",
   "metadata": {},
   "outputs": [],
   "source": []
  },
  {
   "cell_type": "markdown",
   "id": "543a6e3e",
   "metadata": {},
   "source": [
    "# save the model"
   ]
  },
  {
   "cell_type": "code",
   "execution_count": 116,
   "id": "49c9f2e7",
   "metadata": {},
   "outputs": [],
   "source": [
    "import pickle"
   ]
  },
  {
   "cell_type": "code",
   "execution_count": 117,
   "id": "071d798a",
   "metadata": {},
   "outputs": [],
   "source": [
    "import numpy as np"
   ]
  },
  {
   "cell_type": "code",
   "execution_count": 118,
   "id": "3ebc403d",
   "metadata": {},
   "outputs": [],
   "source": [
    "file_name = 'model.pkl'\n",
    "\n",
    "with open(file_name, 'wb') as file:\n",
    "    pickle.dump(model,file)"
   ]
  },
  {
   "cell_type": "code",
   "execution_count": 182,
   "id": "b966d1ca",
   "metadata": {},
   "outputs": [],
   "source": [
    "# to check the prediction with deployment:\n",
    "# Results might differ \n",
    "example1 = [8,2,2,8] # -> 1\n",
    "example2 = [2,1,0,9] # -> 0\n",
    "example3 = [1,2,0,9] # -> 0\n",
    "example4= [2,1,0,5]#->1\n",
    "example5 = [4,1,0,9] # -> 1\n",
    "example6 = [3,1,0,9] # -> 0\n"
   ]
  },
  {
   "cell_type": "code",
   "execution_count": null,
   "id": "c1d7f5fa",
   "metadata": {},
   "outputs": [],
   "source": []
  },
  {
   "cell_type": "code",
   "execution_count": null,
   "id": "d02c1f5c",
   "metadata": {},
   "outputs": [],
   "source": []
  },
  {
   "cell_type": "code",
   "execution_count": null,
   "id": "48c47728",
   "metadata": {},
   "outputs": [],
   "source": []
  },
  {
   "cell_type": "code",
   "execution_count": null,
   "id": "a23f79a5",
   "metadata": {},
   "outputs": [],
   "source": []
  },
  {
   "cell_type": "code",
   "execution_count": null,
   "id": "71a9159d",
   "metadata": {},
   "outputs": [],
   "source": []
  },
  {
   "cell_type": "code",
   "execution_count": null,
   "id": "fae8dfc7",
   "metadata": {},
   "outputs": [],
   "source": []
  },
  {
   "cell_type": "code",
   "execution_count": null,
   "id": "14365103",
   "metadata": {},
   "outputs": [],
   "source": []
  },
  {
   "cell_type": "code",
   "execution_count": null,
   "id": "52554e03",
   "metadata": {},
   "outputs": [],
   "source": []
  },
  {
   "cell_type": "code",
   "execution_count": null,
   "id": "d951558d",
   "metadata": {},
   "outputs": [],
   "source": []
  },
  {
   "cell_type": "code",
   "execution_count": null,
   "id": "a8e586b5",
   "metadata": {},
   "outputs": [],
   "source": []
  },
  {
   "cell_type": "code",
   "execution_count": null,
   "id": "cf7a1ed8",
   "metadata": {},
   "outputs": [],
   "source": []
  }
 ],
 "metadata": {
  "kernelspec": {
   "display_name": "Python 3 (ipykernel)",
   "language": "python",
   "name": "python3"
  },
  "language_info": {
   "codemirror_mode": {
    "name": "ipython",
    "version": 3
   },
   "file_extension": ".py",
   "mimetype": "text/x-python",
   "name": "python",
   "nbconvert_exporter": "python",
   "pygments_lexer": "ipython3",
   "version": "3.9.7"
  }
 },
 "nbformat": 4,
 "nbformat_minor": 5
}
